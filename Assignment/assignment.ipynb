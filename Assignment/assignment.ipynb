{
  "cells": [
    {
      "cell_type": "markdown",
      "metadata": {
        "id": "uAyli0vgLk0E"
      },
      "source": [
        "<a href=\"https://colab.research.google.com/github/michalis0/Business-Intelligence-and-Analytics/blob/master/Assignment/assignment.ipynb\" target=\"_parent\"><img src=\"https://colab.research.google.com/assets/colab-badge.svg\" alt=\"Open In Colab\"/></a>"
      ]
    },
    {
      "cell_type": "code",
      "execution_count": 3,
      "metadata": {
        "id": "rGZ6kbilZZYM"
      },
      "outputs": [],
      "source": [
        "import pandas as pd\n",
        "import numpy as np\n",
        "import warnings\n",
        "import matplotlib.pyplot as plt\n",
        "import seaborn as sns\n",
        "import plotly as py\n",
        "import plotly.graph_objs as go\n",
        "import statistics\n",
        "\n",
        "from sklearn.model_selection import train_test_split, GridSearchCV\n",
        "from sklearn.linear_model import LinearRegression, LogisticRegression, LogisticRegressionCV\n",
        "from sklearn.metrics import mean_absolute_error, mean_squared_error, r2_score, recall_score, precision_score\n",
        "from sklearn.preprocessing import OneHotEncoder, LabelEncoder, MinMaxScaler, StandardScaler, PolynomialFeatures\n",
        "from sklearn.neighbors import KNeighborsClassifier\n",
        "from sklearn.tree import DecisionTreeClassifier\n",
        "from sklearn.cluster import KMeans, AgglomerativeClustering\n",
        "from scipy.cluster.hierarchy import dendrogram, linkage\n",
        "\n",
        "from mlxtend.frequent_patterns import apriori\n",
        "from mlxtend.frequent_patterns import association_rules\n",
        "\n",
        "warnings.filterwarnings('ignore')\n",
        "%matplotlib inline"
      ]
    },
    {
      "cell_type": "markdown",
      "metadata": {
        "id": "LYGuKo04mVkr"
      },
      "source": [
        "<div>\n",
        "<td>\n",
        "<img src=\"https://upload.wikimedia.org/wikipedia/commons/thumb/2/2b/Logo_Universit%C3%A9_de_Lausanne.svg/2000px-Logo_Universit%C3%A9_de_Lausanne.svg.png\" style=\"padding-right:10px;width:240px;float:left\"/></td>\n",
        "<h2 style=\"white-space: nowrap\">Business Intelligence and Analytics Personal Assignment</h2></td>\n",
        "<hr style=\"clear:both\">\n",
        "<p style=\"font-size:0.85em; margin:2px; text-align:justify\">\n",
        "\n",
        "</div>"
      ]
    },
    {
      "cell_type": "markdown",
      "metadata": {
        "id": "wcSQ4nreg3ed"
      },
      "source": [
        "# IMPORTANT\n",
        "\n",
        "Question 1: Before starting this assignment, please indicate whether this course is worth 4.5 or 6 credits to you. Please answer truthfully, as checks will be made afterwards. This question is only intended to facilitate the calculation of final points.\n",
        "\n",
        "> TODO: Your answer here"
      ]
    },
    {
      "cell_type": "markdown",
      "metadata": {
        "id": "ZLO9775Ol1KD"
      },
      "source": [
        "# Part 1: Climate Analytics - Rice vs Wheat in a Changing World\n",
        "\n",
        "## Context\n",
        "\n",
        "You work as a junior data analyst at SerriFleur, an international NGO focused on sustainable agriculture in the face of climate change. Your team is investigating how climate conditions and farming practices affect the yields of rice and wheat — two of the most critical staple crops globally.\n",
        "\n",
        "You’ve just received a massive dataset from the research division: \"Hydroponix.csv\". Your task is to extract insights, build models, and tell a compelling story from the data. You can find the dataset here: https://media.githubusercontent.com/media/michalis0/Business-Intelligence-and-Analytics/refs/heads/master/data/Hydroponix.csv"
      ]
    },
    {
      "cell_type": "markdown",
      "metadata": {
        "id": "dPZrAcSrv32W"
      },
      "source": [
        "Columns Overview:\n",
        "\n",
        "* `Year` : Year of the observation.\n",
        "\n",
        "* `Country` : Country where the data was collected.\n",
        "\n",
        "* `Region` : Specific region within the country.\n",
        "\n",
        "* `Crop_Type` : Type of agricultural crop observed.\n",
        "\n",
        "* `Average_Temperature` : Annual average temperature in degrees Celsius.\n",
        "\n",
        "* `Total_Precipitation` : Total annual precipitation in millimeters.\n",
        "\n",
        "* `CO2_Emissions` : CO₂ emissions in million tons.\n",
        "\n",
        "* `Crop_Yield` : Agricultural yield in tons per hectare.\n",
        "\n",
        "* `Extreme_Weather_Events` : Number of recorded extreme weather events.\n",
        "\n",
        "* `Irrigation_Access` : Percentage of cultivated land with access to irrigation.\n",
        "\n",
        "* `Pesticide_Use` : Pesticide use in kilograms per hectare.\n",
        "\n",
        "* `Fertilizer_Use` : Fertilizer use in kilograms per hectare.\n",
        "\n",
        "* `Soil_Health_Index` : Soil quality index (out of 100).\n",
        "\n",
        "* `Economic_Impact` : Economic impact in million USD."
      ]
    },
    {
      "cell_type": "code",
      "execution_count": 4,
      "metadata": {
        "id": "d9GkXOmNolo7",
        "outputId": "31b9eb81-7c45-420a-ee1e-4900572eb2c6",
        "colab": {
          "base_uri": "https://localhost:8080/",
          "height": 495
        }
      },
      "outputs": [
        {
          "output_type": "display_data",
          "data": {
            "text/plain": [
              "      Year    Country              Region  Crop_Type  Average_Temperature  \\\n",
              "0     2001      India         West Bengal       Corn                 1.55   \n",
              "1     2024      China               North       Corn                 3.23   \n",
              "2     2001     France       Ile-de-France      Wheat                21.11   \n",
              "3     2001     Canada            Prairies     Coffee                27.85   \n",
              "4     1998      India          Tamil Nadu  Sugarcane                 2.19   \n",
              "...    ...        ...                 ...        ...                  ...   \n",
              "9995  2022     France  Nouvelle-Aquitaine     Cotton                30.48   \n",
              "9996  1999  Australia          Queensland   Soybeans                 9.53   \n",
              "9997  2000  Argentina           Patagonia     Coffee                31.92   \n",
              "9998  1996     Brazil           Southeast   Soybeans                13.95   \n",
              "9999  2015      China               South       Corn                11.78   \n",
              "\n",
              "      Total_Precipitation  CO2_Emissions  Crop_Yield  Irrigation_Access  \\\n",
              "0                  447.06          15.22       1.737              14.54   \n",
              "1                 2913.57          29.82       1.737              11.05   \n",
              "2                 1301.74          25.75       1.719              84.42   \n",
              "3                 1154.36          13.91       3.890              94.06   \n",
              "4                 1627.48          11.81       1.080              95.75   \n",
              "...                   ...            ...         ...                ...   \n",
              "9995               685.93          17.64       3.033              27.56   \n",
              "9996              2560.38          10.68       2.560              77.02   \n",
              "9997               357.76          26.01       1.161              78.53   \n",
              "9998              1549.52          17.31       3.348              42.65   \n",
              "9999              1676.25           5.34       3.710              46.41   \n",
              "\n",
              "      Pesticide_Use  Fertilizer_Use  Soil_Health_Index  Economic_Impact  \n",
              "0             10.08           14.78              83.25           808.13  \n",
              "1             33.06           23.25              54.02           616.22  \n",
              "2             27.41           65.53              67.78           796.96  \n",
              "3             14.38           87.58              91.39           790.32  \n",
              "4             44.35           88.08              49.61           401.72  \n",
              "...             ...             ...                ...              ...  \n",
              "9995          41.96           10.95              43.41          1483.06  \n",
              "9996           5.45           82.32              59.39           829.61  \n",
              "9997          11.94           26.00              41.46           155.99  \n",
              "9998          44.71           25.07              75.10          1613.90  \n",
              "9999          48.28           98.27              59.38           453.14  \n",
              "\n",
              "[10000 rows x 13 columns]"
            ],
            "text/html": [
              "\n",
              "  <div id=\"df-feefaf59-e79f-4dd7-8f81-1a272782c031\" class=\"colab-df-container\">\n",
              "    <div>\n",
              "<style scoped>\n",
              "    .dataframe tbody tr th:only-of-type {\n",
              "        vertical-align: middle;\n",
              "    }\n",
              "\n",
              "    .dataframe tbody tr th {\n",
              "        vertical-align: top;\n",
              "    }\n",
              "\n",
              "    .dataframe thead th {\n",
              "        text-align: right;\n",
              "    }\n",
              "</style>\n",
              "<table border=\"1\" class=\"dataframe\">\n",
              "  <thead>\n",
              "    <tr style=\"text-align: right;\">\n",
              "      <th></th>\n",
              "      <th>Year</th>\n",
              "      <th>Country</th>\n",
              "      <th>Region</th>\n",
              "      <th>Crop_Type</th>\n",
              "      <th>Average_Temperature</th>\n",
              "      <th>Total_Precipitation</th>\n",
              "      <th>CO2_Emissions</th>\n",
              "      <th>Crop_Yield</th>\n",
              "      <th>Irrigation_Access</th>\n",
              "      <th>Pesticide_Use</th>\n",
              "      <th>Fertilizer_Use</th>\n",
              "      <th>Soil_Health_Index</th>\n",
              "      <th>Economic_Impact</th>\n",
              "    </tr>\n",
              "  </thead>\n",
              "  <tbody>\n",
              "    <tr>\n",
              "      <th>0</th>\n",
              "      <td>2001</td>\n",
              "      <td>India</td>\n",
              "      <td>West Bengal</td>\n",
              "      <td>Corn</td>\n",
              "      <td>1.55</td>\n",
              "      <td>447.06</td>\n",
              "      <td>15.22</td>\n",
              "      <td>1.737</td>\n",
              "      <td>14.54</td>\n",
              "      <td>10.08</td>\n",
              "      <td>14.78</td>\n",
              "      <td>83.25</td>\n",
              "      <td>808.13</td>\n",
              "    </tr>\n",
              "    <tr>\n",
              "      <th>1</th>\n",
              "      <td>2024</td>\n",
              "      <td>China</td>\n",
              "      <td>North</td>\n",
              "      <td>Corn</td>\n",
              "      <td>3.23</td>\n",
              "      <td>2913.57</td>\n",
              "      <td>29.82</td>\n",
              "      <td>1.737</td>\n",
              "      <td>11.05</td>\n",
              "      <td>33.06</td>\n",
              "      <td>23.25</td>\n",
              "      <td>54.02</td>\n",
              "      <td>616.22</td>\n",
              "    </tr>\n",
              "    <tr>\n",
              "      <th>2</th>\n",
              "      <td>2001</td>\n",
              "      <td>France</td>\n",
              "      <td>Ile-de-France</td>\n",
              "      <td>Wheat</td>\n",
              "      <td>21.11</td>\n",
              "      <td>1301.74</td>\n",
              "      <td>25.75</td>\n",
              "      <td>1.719</td>\n",
              "      <td>84.42</td>\n",
              "      <td>27.41</td>\n",
              "      <td>65.53</td>\n",
              "      <td>67.78</td>\n",
              "      <td>796.96</td>\n",
              "    </tr>\n",
              "    <tr>\n",
              "      <th>3</th>\n",
              "      <td>2001</td>\n",
              "      <td>Canada</td>\n",
              "      <td>Prairies</td>\n",
              "      <td>Coffee</td>\n",
              "      <td>27.85</td>\n",
              "      <td>1154.36</td>\n",
              "      <td>13.91</td>\n",
              "      <td>3.890</td>\n",
              "      <td>94.06</td>\n",
              "      <td>14.38</td>\n",
              "      <td>87.58</td>\n",
              "      <td>91.39</td>\n",
              "      <td>790.32</td>\n",
              "    </tr>\n",
              "    <tr>\n",
              "      <th>4</th>\n",
              "      <td>1998</td>\n",
              "      <td>India</td>\n",
              "      <td>Tamil Nadu</td>\n",
              "      <td>Sugarcane</td>\n",
              "      <td>2.19</td>\n",
              "      <td>1627.48</td>\n",
              "      <td>11.81</td>\n",
              "      <td>1.080</td>\n",
              "      <td>95.75</td>\n",
              "      <td>44.35</td>\n",
              "      <td>88.08</td>\n",
              "      <td>49.61</td>\n",
              "      <td>401.72</td>\n",
              "    </tr>\n",
              "    <tr>\n",
              "      <th>...</th>\n",
              "      <td>...</td>\n",
              "      <td>...</td>\n",
              "      <td>...</td>\n",
              "      <td>...</td>\n",
              "      <td>...</td>\n",
              "      <td>...</td>\n",
              "      <td>...</td>\n",
              "      <td>...</td>\n",
              "      <td>...</td>\n",
              "      <td>...</td>\n",
              "      <td>...</td>\n",
              "      <td>...</td>\n",
              "      <td>...</td>\n",
              "    </tr>\n",
              "    <tr>\n",
              "      <th>9995</th>\n",
              "      <td>2022</td>\n",
              "      <td>France</td>\n",
              "      <td>Nouvelle-Aquitaine</td>\n",
              "      <td>Cotton</td>\n",
              "      <td>30.48</td>\n",
              "      <td>685.93</td>\n",
              "      <td>17.64</td>\n",
              "      <td>3.033</td>\n",
              "      <td>27.56</td>\n",
              "      <td>41.96</td>\n",
              "      <td>10.95</td>\n",
              "      <td>43.41</td>\n",
              "      <td>1483.06</td>\n",
              "    </tr>\n",
              "    <tr>\n",
              "      <th>9996</th>\n",
              "      <td>1999</td>\n",
              "      <td>Australia</td>\n",
              "      <td>Queensland</td>\n",
              "      <td>Soybeans</td>\n",
              "      <td>9.53</td>\n",
              "      <td>2560.38</td>\n",
              "      <td>10.68</td>\n",
              "      <td>2.560</td>\n",
              "      <td>77.02</td>\n",
              "      <td>5.45</td>\n",
              "      <td>82.32</td>\n",
              "      <td>59.39</td>\n",
              "      <td>829.61</td>\n",
              "    </tr>\n",
              "    <tr>\n",
              "      <th>9997</th>\n",
              "      <td>2000</td>\n",
              "      <td>Argentina</td>\n",
              "      <td>Patagonia</td>\n",
              "      <td>Coffee</td>\n",
              "      <td>31.92</td>\n",
              "      <td>357.76</td>\n",
              "      <td>26.01</td>\n",
              "      <td>1.161</td>\n",
              "      <td>78.53</td>\n",
              "      <td>11.94</td>\n",
              "      <td>26.00</td>\n",
              "      <td>41.46</td>\n",
              "      <td>155.99</td>\n",
              "    </tr>\n",
              "    <tr>\n",
              "      <th>9998</th>\n",
              "      <td>1996</td>\n",
              "      <td>Brazil</td>\n",
              "      <td>Southeast</td>\n",
              "      <td>Soybeans</td>\n",
              "      <td>13.95</td>\n",
              "      <td>1549.52</td>\n",
              "      <td>17.31</td>\n",
              "      <td>3.348</td>\n",
              "      <td>42.65</td>\n",
              "      <td>44.71</td>\n",
              "      <td>25.07</td>\n",
              "      <td>75.10</td>\n",
              "      <td>1613.90</td>\n",
              "    </tr>\n",
              "    <tr>\n",
              "      <th>9999</th>\n",
              "      <td>2015</td>\n",
              "      <td>China</td>\n",
              "      <td>South</td>\n",
              "      <td>Corn</td>\n",
              "      <td>11.78</td>\n",
              "      <td>1676.25</td>\n",
              "      <td>5.34</td>\n",
              "      <td>3.710</td>\n",
              "      <td>46.41</td>\n",
              "      <td>48.28</td>\n",
              "      <td>98.27</td>\n",
              "      <td>59.38</td>\n",
              "      <td>453.14</td>\n",
              "    </tr>\n",
              "  </tbody>\n",
              "</table>\n",
              "<p>10000 rows × 13 columns</p>\n",
              "</div>\n",
              "    <div class=\"colab-df-buttons\">\n",
              "\n",
              "  <div class=\"colab-df-container\">\n",
              "    <button class=\"colab-df-convert\" onclick=\"convertToInteractive('df-feefaf59-e79f-4dd7-8f81-1a272782c031')\"\n",
              "            title=\"Convert this dataframe to an interactive table.\"\n",
              "            style=\"display:none;\">\n",
              "\n",
              "  <svg xmlns=\"http://www.w3.org/2000/svg\" height=\"24px\" viewBox=\"0 -960 960 960\">\n",
              "    <path d=\"M120-120v-720h720v720H120Zm60-500h600v-160H180v160Zm220 220h160v-160H400v160Zm0 220h160v-160H400v160ZM180-400h160v-160H180v160Zm440 0h160v-160H620v160ZM180-180h160v-160H180v160Zm440 0h160v-160H620v160Z\"/>\n",
              "  </svg>\n",
              "    </button>\n",
              "\n",
              "  <style>\n",
              "    .colab-df-container {\n",
              "      display:flex;\n",
              "      gap: 12px;\n",
              "    }\n",
              "\n",
              "    .colab-df-convert {\n",
              "      background-color: #E8F0FE;\n",
              "      border: none;\n",
              "      border-radius: 50%;\n",
              "      cursor: pointer;\n",
              "      display: none;\n",
              "      fill: #1967D2;\n",
              "      height: 32px;\n",
              "      padding: 0 0 0 0;\n",
              "      width: 32px;\n",
              "    }\n",
              "\n",
              "    .colab-df-convert:hover {\n",
              "      background-color: #E2EBFA;\n",
              "      box-shadow: 0px 1px 2px rgba(60, 64, 67, 0.3), 0px 1px 3px 1px rgba(60, 64, 67, 0.15);\n",
              "      fill: #174EA6;\n",
              "    }\n",
              "\n",
              "    .colab-df-buttons div {\n",
              "      margin-bottom: 4px;\n",
              "    }\n",
              "\n",
              "    [theme=dark] .colab-df-convert {\n",
              "      background-color: #3B4455;\n",
              "      fill: #D2E3FC;\n",
              "    }\n",
              "\n",
              "    [theme=dark] .colab-df-convert:hover {\n",
              "      background-color: #434B5C;\n",
              "      box-shadow: 0px 1px 3px 1px rgba(0, 0, 0, 0.15);\n",
              "      filter: drop-shadow(0px 1px 2px rgba(0, 0, 0, 0.3));\n",
              "      fill: #FFFFFF;\n",
              "    }\n",
              "  </style>\n",
              "\n",
              "    <script>\n",
              "      const buttonEl =\n",
              "        document.querySelector('#df-feefaf59-e79f-4dd7-8f81-1a272782c031 button.colab-df-convert');\n",
              "      buttonEl.style.display =\n",
              "        google.colab.kernel.accessAllowed ? 'block' : 'none';\n",
              "\n",
              "      async function convertToInteractive(key) {\n",
              "        const element = document.querySelector('#df-feefaf59-e79f-4dd7-8f81-1a272782c031');\n",
              "        const dataTable =\n",
              "          await google.colab.kernel.invokeFunction('convertToInteractive',\n",
              "                                                    [key], {});\n",
              "        if (!dataTable) return;\n",
              "\n",
              "        const docLinkHtml = 'Like what you see? Visit the ' +\n",
              "          '<a target=\"_blank\" href=https://colab.research.google.com/notebooks/data_table.ipynb>data table notebook</a>'\n",
              "          + ' to learn more about interactive tables.';\n",
              "        element.innerHTML = '';\n",
              "        dataTable['output_type'] = 'display_data';\n",
              "        await google.colab.output.renderOutput(dataTable, element);\n",
              "        const docLink = document.createElement('div');\n",
              "        docLink.innerHTML = docLinkHtml;\n",
              "        element.appendChild(docLink);\n",
              "      }\n",
              "    </script>\n",
              "  </div>\n",
              "\n",
              "\n",
              "    <div id=\"df-0fe0c278-5bb3-4d92-89b4-afcd9c8de9ec\">\n",
              "      <button class=\"colab-df-quickchart\" onclick=\"quickchart('df-0fe0c278-5bb3-4d92-89b4-afcd9c8de9ec')\"\n",
              "                title=\"Suggest charts\"\n",
              "                style=\"display:none;\">\n",
              "\n",
              "<svg xmlns=\"http://www.w3.org/2000/svg\" height=\"24px\"viewBox=\"0 0 24 24\"\n",
              "     width=\"24px\">\n",
              "    <g>\n",
              "        <path d=\"M19 3H5c-1.1 0-2 .9-2 2v14c0 1.1.9 2 2 2h14c1.1 0 2-.9 2-2V5c0-1.1-.9-2-2-2zM9 17H7v-7h2v7zm4 0h-2V7h2v10zm4 0h-2v-4h2v4z\"/>\n",
              "    </g>\n",
              "</svg>\n",
              "      </button>\n",
              "\n",
              "<style>\n",
              "  .colab-df-quickchart {\n",
              "      --bg-color: #E8F0FE;\n",
              "      --fill-color: #1967D2;\n",
              "      --hover-bg-color: #E2EBFA;\n",
              "      --hover-fill-color: #174EA6;\n",
              "      --disabled-fill-color: #AAA;\n",
              "      --disabled-bg-color: #DDD;\n",
              "  }\n",
              "\n",
              "  [theme=dark] .colab-df-quickchart {\n",
              "      --bg-color: #3B4455;\n",
              "      --fill-color: #D2E3FC;\n",
              "      --hover-bg-color: #434B5C;\n",
              "      --hover-fill-color: #FFFFFF;\n",
              "      --disabled-bg-color: #3B4455;\n",
              "      --disabled-fill-color: #666;\n",
              "  }\n",
              "\n",
              "  .colab-df-quickchart {\n",
              "    background-color: var(--bg-color);\n",
              "    border: none;\n",
              "    border-radius: 50%;\n",
              "    cursor: pointer;\n",
              "    display: none;\n",
              "    fill: var(--fill-color);\n",
              "    height: 32px;\n",
              "    padding: 0;\n",
              "    width: 32px;\n",
              "  }\n",
              "\n",
              "  .colab-df-quickchart:hover {\n",
              "    background-color: var(--hover-bg-color);\n",
              "    box-shadow: 0 1px 2px rgba(60, 64, 67, 0.3), 0 1px 3px 1px rgba(60, 64, 67, 0.15);\n",
              "    fill: var(--button-hover-fill-color);\n",
              "  }\n",
              "\n",
              "  .colab-df-quickchart-complete:disabled,\n",
              "  .colab-df-quickchart-complete:disabled:hover {\n",
              "    background-color: var(--disabled-bg-color);\n",
              "    fill: var(--disabled-fill-color);\n",
              "    box-shadow: none;\n",
              "  }\n",
              "\n",
              "  .colab-df-spinner {\n",
              "    border: 2px solid var(--fill-color);\n",
              "    border-color: transparent;\n",
              "    border-bottom-color: var(--fill-color);\n",
              "    animation:\n",
              "      spin 1s steps(1) infinite;\n",
              "  }\n",
              "\n",
              "  @keyframes spin {\n",
              "    0% {\n",
              "      border-color: transparent;\n",
              "      border-bottom-color: var(--fill-color);\n",
              "      border-left-color: var(--fill-color);\n",
              "    }\n",
              "    20% {\n",
              "      border-color: transparent;\n",
              "      border-left-color: var(--fill-color);\n",
              "      border-top-color: var(--fill-color);\n",
              "    }\n",
              "    30% {\n",
              "      border-color: transparent;\n",
              "      border-left-color: var(--fill-color);\n",
              "      border-top-color: var(--fill-color);\n",
              "      border-right-color: var(--fill-color);\n",
              "    }\n",
              "    40% {\n",
              "      border-color: transparent;\n",
              "      border-right-color: var(--fill-color);\n",
              "      border-top-color: var(--fill-color);\n",
              "    }\n",
              "    60% {\n",
              "      border-color: transparent;\n",
              "      border-right-color: var(--fill-color);\n",
              "    }\n",
              "    80% {\n",
              "      border-color: transparent;\n",
              "      border-right-color: var(--fill-color);\n",
              "      border-bottom-color: var(--fill-color);\n",
              "    }\n",
              "    90% {\n",
              "      border-color: transparent;\n",
              "      border-bottom-color: var(--fill-color);\n",
              "    }\n",
              "  }\n",
              "</style>\n",
              "\n",
              "      <script>\n",
              "        async function quickchart(key) {\n",
              "          const quickchartButtonEl =\n",
              "            document.querySelector('#' + key + ' button');\n",
              "          quickchartButtonEl.disabled = true;  // To prevent multiple clicks.\n",
              "          quickchartButtonEl.classList.add('colab-df-spinner');\n",
              "          try {\n",
              "            const charts = await google.colab.kernel.invokeFunction(\n",
              "                'suggestCharts', [key], {});\n",
              "          } catch (error) {\n",
              "            console.error('Error during call to suggestCharts:', error);\n",
              "          }\n",
              "          quickchartButtonEl.classList.remove('colab-df-spinner');\n",
              "          quickchartButtonEl.classList.add('colab-df-quickchart-complete');\n",
              "        }\n",
              "        (() => {\n",
              "          let quickchartButtonEl =\n",
              "            document.querySelector('#df-0fe0c278-5bb3-4d92-89b4-afcd9c8de9ec button');\n",
              "          quickchartButtonEl.style.display =\n",
              "            google.colab.kernel.accessAllowed ? 'block' : 'none';\n",
              "        })();\n",
              "      </script>\n",
              "    </div>\n",
              "\n",
              "  <div id=\"id_671379b2-5513-4a84-8938-88fc458d75db\">\n",
              "    <style>\n",
              "      .colab-df-generate {\n",
              "        background-color: #E8F0FE;\n",
              "        border: none;\n",
              "        border-radius: 50%;\n",
              "        cursor: pointer;\n",
              "        display: none;\n",
              "        fill: #1967D2;\n",
              "        height: 32px;\n",
              "        padding: 0 0 0 0;\n",
              "        width: 32px;\n",
              "      }\n",
              "\n",
              "      .colab-df-generate:hover {\n",
              "        background-color: #E2EBFA;\n",
              "        box-shadow: 0px 1px 2px rgba(60, 64, 67, 0.3), 0px 1px 3px 1px rgba(60, 64, 67, 0.15);\n",
              "        fill: #174EA6;\n",
              "      }\n",
              "\n",
              "      [theme=dark] .colab-df-generate {\n",
              "        background-color: #3B4455;\n",
              "        fill: #D2E3FC;\n",
              "      }\n",
              "\n",
              "      [theme=dark] .colab-df-generate:hover {\n",
              "        background-color: #434B5C;\n",
              "        box-shadow: 0px 1px 3px 1px rgba(0, 0, 0, 0.15);\n",
              "        filter: drop-shadow(0px 1px 2px rgba(0, 0, 0, 0.3));\n",
              "        fill: #FFFFFF;\n",
              "      }\n",
              "    </style>\n",
              "    <button class=\"colab-df-generate\" onclick=\"generateWithVariable('data_climate')\"\n",
              "            title=\"Generate code using this dataframe.\"\n",
              "            style=\"display:none;\">\n",
              "\n",
              "  <svg xmlns=\"http://www.w3.org/2000/svg\" height=\"24px\"viewBox=\"0 0 24 24\"\n",
              "       width=\"24px\">\n",
              "    <path d=\"M7,19H8.4L18.45,9,17,7.55,7,17.6ZM5,21V16.75L18.45,3.32a2,2,0,0,1,2.83,0l1.4,1.43a1.91,1.91,0,0,1,.58,1.4,1.91,1.91,0,0,1-.58,1.4L9.25,21ZM18.45,9,17,7.55Zm-12,3A5.31,5.31,0,0,0,4.9,8.1,5.31,5.31,0,0,0,1,6.5,5.31,5.31,0,0,0,4.9,4.9,5.31,5.31,0,0,0,6.5,1,5.31,5.31,0,0,0,8.1,4.9,5.31,5.31,0,0,0,12,6.5,5.46,5.46,0,0,0,6.5,12Z\"/>\n",
              "  </svg>\n",
              "    </button>\n",
              "    <script>\n",
              "      (() => {\n",
              "      const buttonEl =\n",
              "        document.querySelector('#id_671379b2-5513-4a84-8938-88fc458d75db button.colab-df-generate');\n",
              "      buttonEl.style.display =\n",
              "        google.colab.kernel.accessAllowed ? 'block' : 'none';\n",
              "\n",
              "      buttonEl.onclick = () => {\n",
              "        google.colab.notebook.generateWithVariable('data_climate');\n",
              "      }\n",
              "      })();\n",
              "    </script>\n",
              "  </div>\n",
              "\n",
              "    </div>\n",
              "  </div>\n"
            ],
            "application/vnd.google.colaboratory.intrinsic+json": {
              "type": "dataframe",
              "variable_name": "data_climate",
              "summary": "{\n  \"name\": \"data_climate\",\n  \"rows\": 10000,\n  \"fields\": [\n    {\n      \"column\": \"Year\",\n      \"properties\": {\n        \"dtype\": \"number\",\n        \"std\": 10,\n        \"min\": 1990,\n        \"max\": 2024,\n        \"num_unique_values\": 35,\n        \"samples\": [\n          1994,\n          2017,\n          2005\n        ],\n        \"semantic_type\": \"\",\n        \"description\": \"\"\n      }\n    },\n    {\n      \"column\": \"Country\",\n      \"properties\": {\n        \"dtype\": \"category\",\n        \"num_unique_values\": 10,\n        \"samples\": [\n          \"Russia\",\n          \"China\",\n          \"Argentina\"\n        ],\n        \"semantic_type\": \"\",\n        \"description\": \"\"\n      }\n    },\n    {\n      \"column\": \"Region\",\n      \"properties\": {\n        \"dtype\": \"category\",\n        \"num_unique_values\": 34,\n        \"samples\": [\n          \"Victoria\",\n          \"Southeast\",\n          \"West\"\n        ],\n        \"semantic_type\": \"\",\n        \"description\": \"\"\n      }\n    },\n    {\n      \"column\": \"Crop_Type\",\n      \"properties\": {\n        \"dtype\": \"category\",\n        \"num_unique_values\": 10,\n        \"samples\": [\n          \"Soybeans\",\n          \"Wheat\",\n          \"Rice\"\n        ],\n        \"semantic_type\": \"\",\n        \"description\": \"\"\n      }\n    },\n    {\n      \"column\": \"Average_Temperature\",\n      \"properties\": {\n        \"dtype\": \"number\",\n        \"std\": 11.466954595155933,\n        \"min\": -4.99,\n        \"max\": 35.0,\n        \"num_unique_values\": 3677,\n        \"samples\": [\n          15.49,\n          22.98,\n          3.59\n        ],\n        \"semantic_type\": \"\",\n        \"description\": \"\"\n      }\n    },\n    {\n      \"column\": \"Total_Precipitation\",\n      \"properties\": {\n        \"dtype\": \"number\",\n        \"std\": 805.0168148137855,\n        \"min\": 200.15,\n        \"max\": 2999.67,\n        \"num_unique_values\": 9784,\n        \"samples\": [\n          955.41,\n          2647.11,\n          369.83\n        ],\n        \"semantic_type\": \"\",\n        \"description\": \"\"\n      }\n    },\n    {\n      \"column\": \"CO2_Emissions\",\n      \"properties\": {\n        \"dtype\": \"number\",\n        \"std\": 8.589422921998253,\n        \"min\": 0.5,\n        \"max\": 30.0,\n        \"num_unique_values\": 2852,\n        \"samples\": [\n          25.23,\n          22.92,\n          17.85\n        ],\n        \"semantic_type\": \"\",\n        \"description\": \"\"\n      }\n    },\n    {\n      \"column\": \"Crop_Yield\",\n      \"properties\": {\n        \"dtype\": \"number\",\n        \"std\": 0.9983415170135203,\n        \"min\": 0.45,\n        \"max\": 5.0,\n        \"num_unique_values\": 850,\n        \"samples\": [\n          3.51,\n          1.287,\n          4.0\n        ],\n        \"semantic_type\": \"\",\n        \"description\": \"\"\n      }\n    },\n    {\n      \"column\": \"Irrigation_Access\",\n      \"properties\": {\n        \"dtype\": \"number\",\n        \"std\": 25.988304726088543,\n        \"min\": 10.01,\n        \"max\": 99.99,\n        \"num_unique_values\": 6003,\n        \"samples\": [\n          96.91,\n          77.57,\n          24.7\n        ],\n        \"semantic_type\": \"\",\n        \"description\": \"\"\n      }\n    },\n    {\n      \"column\": \"Pesticide_Use\",\n      \"properties\": {\n        \"dtype\": \"number\",\n        \"std\": 14.490962263373268,\n        \"min\": 0.0,\n        \"max\": 49.99,\n        \"num_unique_values\": 4343,\n        \"samples\": [\n          37.87,\n          17.49,\n          47.39\n        ],\n        \"semantic_type\": \"\",\n        \"description\": \"\"\n      }\n    },\n    {\n      \"column\": \"Fertilizer_Use\",\n      \"properties\": {\n        \"dtype\": \"number\",\n        \"std\": 28.711026934916507,\n        \"min\": 0.01,\n        \"max\": 99.99,\n        \"num_unique_values\": 6314,\n        \"samples\": [\n          0.1,\n          83.88,\n          72.62\n        ],\n        \"semantic_type\": \"\",\n        \"description\": \"\"\n      }\n    },\n    {\n      \"column\": \"Soil_Health_Index\",\n      \"properties\": {\n        \"dtype\": \"number\",\n        \"std\": 20.195882333610484,\n        \"min\": 30.0,\n        \"max\": 100.0,\n        \"num_unique_values\": 5318,\n        \"samples\": [\n          98.62,\n          52.85,\n          38.14\n        ],\n        \"semantic_type\": \"\",\n        \"description\": \"\"\n      }\n    },\n    {\n      \"column\": \"Economic_Impact\",\n      \"properties\": {\n        \"dtype\": \"number\",\n        \"std\": 414.59143139199205,\n        \"min\": 47.84,\n        \"max\": 2346.47,\n        \"num_unique_values\": 9631,\n        \"samples\": [\n          407.76,\n          1439.17,\n          1518.62\n        ],\n        \"semantic_type\": \"\",\n        \"description\": \"\"\n      }\n    }\n  ]\n}"
            }
          },
          "metadata": {}
        }
      ],
      "source": [
        "data_climate = pd.read_csv(\"https://media.githubusercontent.com/media/michalis0/Business-Intelligence-and-Analytics/refs/heads/master/data/Hydroponix.csv\")\n",
        "display(data_climate)"
      ]
    },
    {
      "cell_type": "markdown",
      "metadata": {
        "id": "u0ZZWo8XoFb7"
      },
      "source": [
        "## Exercise 1: Data Cleaning & Preprocessing\n",
        "\n"
      ]
    },
    {
      "cell_type": "markdown",
      "metadata": {
        "id": "8OWAKvtFoVnx"
      },
      "source": [
        "The dataset you’ve received contains data from multiple countries, various crops, and inconsistent formatting. Your first job is to narrow the scope of your study and prepare a clean dataset that’s ready for analysis.\n",
        "\n",
        "Your mission:\n",
        "\n",
        "*   Filter the dataset to focus only on rice and wheat\n",
        "*   Drop the regional identifiers column\n",
        "*   Group the data by Country, Year and Crop_type but don't put them as index (*Hint: specific parameter of `groupby`*) and calculate the mean of each column\n",
        "*   Change the type of the columns `Country` and `Crop_type`\n"
      ]
    },
    {
      "cell_type": "code",
      "execution_count": 5,
      "metadata": {
        "id": "P4xZA6U-ldyI",
        "outputId": "03cf0f9b-4f6b-431f-d9a3-4596c1b0e52b",
        "colab": {
          "base_uri": "https://localhost:8080/",
          "height": 478
        }
      },
      "outputs": [
        {
          "output_type": "display_data",
          "data": {
            "text/plain": [
              "      Year    Country           Region Crop_Type  Average_Temperature  \\\n",
              "2     2001     France    Ile-de-France     Wheat                21.11   \n",
              "7     2021  Australia  New South Wales      Rice                25.63   \n",
              "8     2012      India           Punjab     Wheat                32.08   \n",
              "18    1997     Brazil        Northeast      Rice                17.45   \n",
              "20    2000  Australia  New South Wales      Rice                30.08   \n",
              "...    ...        ...              ...       ...                  ...   \n",
              "9974  2009      China            North     Wheat                23.22   \n",
              "9976  2010      China            North     Wheat                31.70   \n",
              "9980  2015     Brazil            South     Wheat                29.62   \n",
              "9984  2018     Russia     Northwestern     Wheat                31.25   \n",
              "9990  2004      China          Central      Rice                16.17   \n",
              "\n",
              "      Total_Precipitation  CO2_Emissions  Crop_Yield  Irrigation_Access  \\\n",
              "2                 1301.74          25.75       1.719              84.42   \n",
              "7                  786.17           7.77       3.270              66.53   \n",
              "8                 1233.10           6.10       2.990              45.87   \n",
              "18                1634.32          29.55       2.754              29.84   \n",
              "20                1641.99          15.83       3.096              94.75   \n",
              "...                   ...            ...         ...                ...   \n",
              "9974              2110.73          16.75       1.431              88.60   \n",
              "9976               283.56          22.74       3.222              88.47   \n",
              "9980               629.33          12.02       1.880              29.06   \n",
              "9984              2722.72          20.06       0.864              13.56   \n",
              "9990              2571.78           1.56       4.530              83.76   \n",
              "\n",
              "      Pesticide_Use  Fertilizer_Use  Soil_Health_Index  Economic_Impact  \n",
              "2             27.41           65.53              67.78           796.96  \n",
              "7             13.44           40.50              63.16          1367.97  \n",
              "8             10.09           32.54              42.31           761.89  \n",
              "18            48.57            3.21              30.18          1323.81  \n",
              "20            13.70           42.84              73.56           345.85  \n",
              "...             ...             ...                ...              ...  \n",
              "9974          24.03           90.20              65.89           248.94  \n",
              "9976          15.34           62.15              46.37           356.17  \n",
              "9980          47.85           74.86              47.09           858.14  \n",
              "9984           3.59           40.00              41.27           377.08  \n",
              "9990           6.40           54.79              44.81           981.05  \n",
              "\n",
              "[2069 rows x 13 columns]"
            ],
            "text/html": [
              "\n",
              "  <div id=\"df-a951cec2-f582-4c28-82f0-33865dcd296c\" class=\"colab-df-container\">\n",
              "    <div>\n",
              "<style scoped>\n",
              "    .dataframe tbody tr th:only-of-type {\n",
              "        vertical-align: middle;\n",
              "    }\n",
              "\n",
              "    .dataframe tbody tr th {\n",
              "        vertical-align: top;\n",
              "    }\n",
              "\n",
              "    .dataframe thead th {\n",
              "        text-align: right;\n",
              "    }\n",
              "</style>\n",
              "<table border=\"1\" class=\"dataframe\">\n",
              "  <thead>\n",
              "    <tr style=\"text-align: right;\">\n",
              "      <th></th>\n",
              "      <th>Year</th>\n",
              "      <th>Country</th>\n",
              "      <th>Region</th>\n",
              "      <th>Crop_Type</th>\n",
              "      <th>Average_Temperature</th>\n",
              "      <th>Total_Precipitation</th>\n",
              "      <th>CO2_Emissions</th>\n",
              "      <th>Crop_Yield</th>\n",
              "      <th>Irrigation_Access</th>\n",
              "      <th>Pesticide_Use</th>\n",
              "      <th>Fertilizer_Use</th>\n",
              "      <th>Soil_Health_Index</th>\n",
              "      <th>Economic_Impact</th>\n",
              "    </tr>\n",
              "  </thead>\n",
              "  <tbody>\n",
              "    <tr>\n",
              "      <th>2</th>\n",
              "      <td>2001</td>\n",
              "      <td>France</td>\n",
              "      <td>Ile-de-France</td>\n",
              "      <td>Wheat</td>\n",
              "      <td>21.11</td>\n",
              "      <td>1301.74</td>\n",
              "      <td>25.75</td>\n",
              "      <td>1.719</td>\n",
              "      <td>84.42</td>\n",
              "      <td>27.41</td>\n",
              "      <td>65.53</td>\n",
              "      <td>67.78</td>\n",
              "      <td>796.96</td>\n",
              "    </tr>\n",
              "    <tr>\n",
              "      <th>7</th>\n",
              "      <td>2021</td>\n",
              "      <td>Australia</td>\n",
              "      <td>New South Wales</td>\n",
              "      <td>Rice</td>\n",
              "      <td>25.63</td>\n",
              "      <td>786.17</td>\n",
              "      <td>7.77</td>\n",
              "      <td>3.270</td>\n",
              "      <td>66.53</td>\n",
              "      <td>13.44</td>\n",
              "      <td>40.50</td>\n",
              "      <td>63.16</td>\n",
              "      <td>1367.97</td>\n",
              "    </tr>\n",
              "    <tr>\n",
              "      <th>8</th>\n",
              "      <td>2012</td>\n",
              "      <td>India</td>\n",
              "      <td>Punjab</td>\n",
              "      <td>Wheat</td>\n",
              "      <td>32.08</td>\n",
              "      <td>1233.10</td>\n",
              "      <td>6.10</td>\n",
              "      <td>2.990</td>\n",
              "      <td>45.87</td>\n",
              "      <td>10.09</td>\n",
              "      <td>32.54</td>\n",
              "      <td>42.31</td>\n",
              "      <td>761.89</td>\n",
              "    </tr>\n",
              "    <tr>\n",
              "      <th>18</th>\n",
              "      <td>1997</td>\n",
              "      <td>Brazil</td>\n",
              "      <td>Northeast</td>\n",
              "      <td>Rice</td>\n",
              "      <td>17.45</td>\n",
              "      <td>1634.32</td>\n",
              "      <td>29.55</td>\n",
              "      <td>2.754</td>\n",
              "      <td>29.84</td>\n",
              "      <td>48.57</td>\n",
              "      <td>3.21</td>\n",
              "      <td>30.18</td>\n",
              "      <td>1323.81</td>\n",
              "    </tr>\n",
              "    <tr>\n",
              "      <th>20</th>\n",
              "      <td>2000</td>\n",
              "      <td>Australia</td>\n",
              "      <td>New South Wales</td>\n",
              "      <td>Rice</td>\n",
              "      <td>30.08</td>\n",
              "      <td>1641.99</td>\n",
              "      <td>15.83</td>\n",
              "      <td>3.096</td>\n",
              "      <td>94.75</td>\n",
              "      <td>13.70</td>\n",
              "      <td>42.84</td>\n",
              "      <td>73.56</td>\n",
              "      <td>345.85</td>\n",
              "    </tr>\n",
              "    <tr>\n",
              "      <th>...</th>\n",
              "      <td>...</td>\n",
              "      <td>...</td>\n",
              "      <td>...</td>\n",
              "      <td>...</td>\n",
              "      <td>...</td>\n",
              "      <td>...</td>\n",
              "      <td>...</td>\n",
              "      <td>...</td>\n",
              "      <td>...</td>\n",
              "      <td>...</td>\n",
              "      <td>...</td>\n",
              "      <td>...</td>\n",
              "      <td>...</td>\n",
              "    </tr>\n",
              "    <tr>\n",
              "      <th>9974</th>\n",
              "      <td>2009</td>\n",
              "      <td>China</td>\n",
              "      <td>North</td>\n",
              "      <td>Wheat</td>\n",
              "      <td>23.22</td>\n",
              "      <td>2110.73</td>\n",
              "      <td>16.75</td>\n",
              "      <td>1.431</td>\n",
              "      <td>88.60</td>\n",
              "      <td>24.03</td>\n",
              "      <td>90.20</td>\n",
              "      <td>65.89</td>\n",
              "      <td>248.94</td>\n",
              "    </tr>\n",
              "    <tr>\n",
              "      <th>9976</th>\n",
              "      <td>2010</td>\n",
              "      <td>China</td>\n",
              "      <td>North</td>\n",
              "      <td>Wheat</td>\n",
              "      <td>31.70</td>\n",
              "      <td>283.56</td>\n",
              "      <td>22.74</td>\n",
              "      <td>3.222</td>\n",
              "      <td>88.47</td>\n",
              "      <td>15.34</td>\n",
              "      <td>62.15</td>\n",
              "      <td>46.37</td>\n",
              "      <td>356.17</td>\n",
              "    </tr>\n",
              "    <tr>\n",
              "      <th>9980</th>\n",
              "      <td>2015</td>\n",
              "      <td>Brazil</td>\n",
              "      <td>South</td>\n",
              "      <td>Wheat</td>\n",
              "      <td>29.62</td>\n",
              "      <td>629.33</td>\n",
              "      <td>12.02</td>\n",
              "      <td>1.880</td>\n",
              "      <td>29.06</td>\n",
              "      <td>47.85</td>\n",
              "      <td>74.86</td>\n",
              "      <td>47.09</td>\n",
              "      <td>858.14</td>\n",
              "    </tr>\n",
              "    <tr>\n",
              "      <th>9984</th>\n",
              "      <td>2018</td>\n",
              "      <td>Russia</td>\n",
              "      <td>Northwestern</td>\n",
              "      <td>Wheat</td>\n",
              "      <td>31.25</td>\n",
              "      <td>2722.72</td>\n",
              "      <td>20.06</td>\n",
              "      <td>0.864</td>\n",
              "      <td>13.56</td>\n",
              "      <td>3.59</td>\n",
              "      <td>40.00</td>\n",
              "      <td>41.27</td>\n",
              "      <td>377.08</td>\n",
              "    </tr>\n",
              "    <tr>\n",
              "      <th>9990</th>\n",
              "      <td>2004</td>\n",
              "      <td>China</td>\n",
              "      <td>Central</td>\n",
              "      <td>Rice</td>\n",
              "      <td>16.17</td>\n",
              "      <td>2571.78</td>\n",
              "      <td>1.56</td>\n",
              "      <td>4.530</td>\n",
              "      <td>83.76</td>\n",
              "      <td>6.40</td>\n",
              "      <td>54.79</td>\n",
              "      <td>44.81</td>\n",
              "      <td>981.05</td>\n",
              "    </tr>\n",
              "  </tbody>\n",
              "</table>\n",
              "<p>2069 rows × 13 columns</p>\n",
              "</div>\n",
              "    <div class=\"colab-df-buttons\">\n",
              "\n",
              "  <div class=\"colab-df-container\">\n",
              "    <button class=\"colab-df-convert\" onclick=\"convertToInteractive('df-a951cec2-f582-4c28-82f0-33865dcd296c')\"\n",
              "            title=\"Convert this dataframe to an interactive table.\"\n",
              "            style=\"display:none;\">\n",
              "\n",
              "  <svg xmlns=\"http://www.w3.org/2000/svg\" height=\"24px\" viewBox=\"0 -960 960 960\">\n",
              "    <path d=\"M120-120v-720h720v720H120Zm60-500h600v-160H180v160Zm220 220h160v-160H400v160Zm0 220h160v-160H400v160ZM180-400h160v-160H180v160Zm440 0h160v-160H620v160ZM180-180h160v-160H180v160Zm440 0h160v-160H620v160Z\"/>\n",
              "  </svg>\n",
              "    </button>\n",
              "\n",
              "  <style>\n",
              "    .colab-df-container {\n",
              "      display:flex;\n",
              "      gap: 12px;\n",
              "    }\n",
              "\n",
              "    .colab-df-convert {\n",
              "      background-color: #E8F0FE;\n",
              "      border: none;\n",
              "      border-radius: 50%;\n",
              "      cursor: pointer;\n",
              "      display: none;\n",
              "      fill: #1967D2;\n",
              "      height: 32px;\n",
              "      padding: 0 0 0 0;\n",
              "      width: 32px;\n",
              "    }\n",
              "\n",
              "    .colab-df-convert:hover {\n",
              "      background-color: #E2EBFA;\n",
              "      box-shadow: 0px 1px 2px rgba(60, 64, 67, 0.3), 0px 1px 3px 1px rgba(60, 64, 67, 0.15);\n",
              "      fill: #174EA6;\n",
              "    }\n",
              "\n",
              "    .colab-df-buttons div {\n",
              "      margin-bottom: 4px;\n",
              "    }\n",
              "\n",
              "    [theme=dark] .colab-df-convert {\n",
              "      background-color: #3B4455;\n",
              "      fill: #D2E3FC;\n",
              "    }\n",
              "\n",
              "    [theme=dark] .colab-df-convert:hover {\n",
              "      background-color: #434B5C;\n",
              "      box-shadow: 0px 1px 3px 1px rgba(0, 0, 0, 0.15);\n",
              "      filter: drop-shadow(0px 1px 2px rgba(0, 0, 0, 0.3));\n",
              "      fill: #FFFFFF;\n",
              "    }\n",
              "  </style>\n",
              "\n",
              "    <script>\n",
              "      const buttonEl =\n",
              "        document.querySelector('#df-a951cec2-f582-4c28-82f0-33865dcd296c button.colab-df-convert');\n",
              "      buttonEl.style.display =\n",
              "        google.colab.kernel.accessAllowed ? 'block' : 'none';\n",
              "\n",
              "      async function convertToInteractive(key) {\n",
              "        const element = document.querySelector('#df-a951cec2-f582-4c28-82f0-33865dcd296c');\n",
              "        const dataTable =\n",
              "          await google.colab.kernel.invokeFunction('convertToInteractive',\n",
              "                                                    [key], {});\n",
              "        if (!dataTable) return;\n",
              "\n",
              "        const docLinkHtml = 'Like what you see? Visit the ' +\n",
              "          '<a target=\"_blank\" href=https://colab.research.google.com/notebooks/data_table.ipynb>data table notebook</a>'\n",
              "          + ' to learn more about interactive tables.';\n",
              "        element.innerHTML = '';\n",
              "        dataTable['output_type'] = 'display_data';\n",
              "        await google.colab.output.renderOutput(dataTable, element);\n",
              "        const docLink = document.createElement('div');\n",
              "        docLink.innerHTML = docLinkHtml;\n",
              "        element.appendChild(docLink);\n",
              "      }\n",
              "    </script>\n",
              "  </div>\n",
              "\n",
              "\n",
              "    <div id=\"df-add6001c-4025-4fd8-a79d-0de3305688d9\">\n",
              "      <button class=\"colab-df-quickchart\" onclick=\"quickchart('df-add6001c-4025-4fd8-a79d-0de3305688d9')\"\n",
              "                title=\"Suggest charts\"\n",
              "                style=\"display:none;\">\n",
              "\n",
              "<svg xmlns=\"http://www.w3.org/2000/svg\" height=\"24px\"viewBox=\"0 0 24 24\"\n",
              "     width=\"24px\">\n",
              "    <g>\n",
              "        <path d=\"M19 3H5c-1.1 0-2 .9-2 2v14c0 1.1.9 2 2 2h14c1.1 0 2-.9 2-2V5c0-1.1-.9-2-2-2zM9 17H7v-7h2v7zm4 0h-2V7h2v10zm4 0h-2v-4h2v4z\"/>\n",
              "    </g>\n",
              "</svg>\n",
              "      </button>\n",
              "\n",
              "<style>\n",
              "  .colab-df-quickchart {\n",
              "      --bg-color: #E8F0FE;\n",
              "      --fill-color: #1967D2;\n",
              "      --hover-bg-color: #E2EBFA;\n",
              "      --hover-fill-color: #174EA6;\n",
              "      --disabled-fill-color: #AAA;\n",
              "      --disabled-bg-color: #DDD;\n",
              "  }\n",
              "\n",
              "  [theme=dark] .colab-df-quickchart {\n",
              "      --bg-color: #3B4455;\n",
              "      --fill-color: #D2E3FC;\n",
              "      --hover-bg-color: #434B5C;\n",
              "      --hover-fill-color: #FFFFFF;\n",
              "      --disabled-bg-color: #3B4455;\n",
              "      --disabled-fill-color: #666;\n",
              "  }\n",
              "\n",
              "  .colab-df-quickchart {\n",
              "    background-color: var(--bg-color);\n",
              "    border: none;\n",
              "    border-radius: 50%;\n",
              "    cursor: pointer;\n",
              "    display: none;\n",
              "    fill: var(--fill-color);\n",
              "    height: 32px;\n",
              "    padding: 0;\n",
              "    width: 32px;\n",
              "  }\n",
              "\n",
              "  .colab-df-quickchart:hover {\n",
              "    background-color: var(--hover-bg-color);\n",
              "    box-shadow: 0 1px 2px rgba(60, 64, 67, 0.3), 0 1px 3px 1px rgba(60, 64, 67, 0.15);\n",
              "    fill: var(--button-hover-fill-color);\n",
              "  }\n",
              "\n",
              "  .colab-df-quickchart-complete:disabled,\n",
              "  .colab-df-quickchart-complete:disabled:hover {\n",
              "    background-color: var(--disabled-bg-color);\n",
              "    fill: var(--disabled-fill-color);\n",
              "    box-shadow: none;\n",
              "  }\n",
              "\n",
              "  .colab-df-spinner {\n",
              "    border: 2px solid var(--fill-color);\n",
              "    border-color: transparent;\n",
              "    border-bottom-color: var(--fill-color);\n",
              "    animation:\n",
              "      spin 1s steps(1) infinite;\n",
              "  }\n",
              "\n",
              "  @keyframes spin {\n",
              "    0% {\n",
              "      border-color: transparent;\n",
              "      border-bottom-color: var(--fill-color);\n",
              "      border-left-color: var(--fill-color);\n",
              "    }\n",
              "    20% {\n",
              "      border-color: transparent;\n",
              "      border-left-color: var(--fill-color);\n",
              "      border-top-color: var(--fill-color);\n",
              "    }\n",
              "    30% {\n",
              "      border-color: transparent;\n",
              "      border-left-color: var(--fill-color);\n",
              "      border-top-color: var(--fill-color);\n",
              "      border-right-color: var(--fill-color);\n",
              "    }\n",
              "    40% {\n",
              "      border-color: transparent;\n",
              "      border-right-color: var(--fill-color);\n",
              "      border-top-color: var(--fill-color);\n",
              "    }\n",
              "    60% {\n",
              "      border-color: transparent;\n",
              "      border-right-color: var(--fill-color);\n",
              "    }\n",
              "    80% {\n",
              "      border-color: transparent;\n",
              "      border-right-color: var(--fill-color);\n",
              "      border-bottom-color: var(--fill-color);\n",
              "    }\n",
              "    90% {\n",
              "      border-color: transparent;\n",
              "      border-bottom-color: var(--fill-color);\n",
              "    }\n",
              "  }\n",
              "</style>\n",
              "\n",
              "      <script>\n",
              "        async function quickchart(key) {\n",
              "          const quickchartButtonEl =\n",
              "            document.querySelector('#' + key + ' button');\n",
              "          quickchartButtonEl.disabled = true;  // To prevent multiple clicks.\n",
              "          quickchartButtonEl.classList.add('colab-df-spinner');\n",
              "          try {\n",
              "            const charts = await google.colab.kernel.invokeFunction(\n",
              "                'suggestCharts', [key], {});\n",
              "          } catch (error) {\n",
              "            console.error('Error during call to suggestCharts:', error);\n",
              "          }\n",
              "          quickchartButtonEl.classList.remove('colab-df-spinner');\n",
              "          quickchartButtonEl.classList.add('colab-df-quickchart-complete');\n",
              "        }\n",
              "        (() => {\n",
              "          let quickchartButtonEl =\n",
              "            document.querySelector('#df-add6001c-4025-4fd8-a79d-0de3305688d9 button');\n",
              "          quickchartButtonEl.style.display =\n",
              "            google.colab.kernel.accessAllowed ? 'block' : 'none';\n",
              "        })();\n",
              "      </script>\n",
              "    </div>\n",
              "\n",
              "  <div id=\"id_13d57ad0-ff7e-4d3b-abd1-e9d50dd02be7\">\n",
              "    <style>\n",
              "      .colab-df-generate {\n",
              "        background-color: #E8F0FE;\n",
              "        border: none;\n",
              "        border-radius: 50%;\n",
              "        cursor: pointer;\n",
              "        display: none;\n",
              "        fill: #1967D2;\n",
              "        height: 32px;\n",
              "        padding: 0 0 0 0;\n",
              "        width: 32px;\n",
              "      }\n",
              "\n",
              "      .colab-df-generate:hover {\n",
              "        background-color: #E2EBFA;\n",
              "        box-shadow: 0px 1px 2px rgba(60, 64, 67, 0.3), 0px 1px 3px 1px rgba(60, 64, 67, 0.15);\n",
              "        fill: #174EA6;\n",
              "      }\n",
              "\n",
              "      [theme=dark] .colab-df-generate {\n",
              "        background-color: #3B4455;\n",
              "        fill: #D2E3FC;\n",
              "      }\n",
              "\n",
              "      [theme=dark] .colab-df-generate:hover {\n",
              "        background-color: #434B5C;\n",
              "        box-shadow: 0px 1px 3px 1px rgba(0, 0, 0, 0.15);\n",
              "        filter: drop-shadow(0px 1px 2px rgba(0, 0, 0, 0.3));\n",
              "        fill: #FFFFFF;\n",
              "      }\n",
              "    </style>\n",
              "    <button class=\"colab-df-generate\" onclick=\"generateWithVariable('dataCrop')\"\n",
              "            title=\"Generate code using this dataframe.\"\n",
              "            style=\"display:none;\">\n",
              "\n",
              "  <svg xmlns=\"http://www.w3.org/2000/svg\" height=\"24px\"viewBox=\"0 0 24 24\"\n",
              "       width=\"24px\">\n",
              "    <path d=\"M7,19H8.4L18.45,9,17,7.55,7,17.6ZM5,21V16.75L18.45,3.32a2,2,0,0,1,2.83,0l1.4,1.43a1.91,1.91,0,0,1,.58,1.4,1.91,1.91,0,0,1-.58,1.4L9.25,21ZM18.45,9,17,7.55Zm-12,3A5.31,5.31,0,0,0,4.9,8.1,5.31,5.31,0,0,0,1,6.5,5.31,5.31,0,0,0,4.9,4.9,5.31,5.31,0,0,0,6.5,1,5.31,5.31,0,0,0,8.1,4.9,5.31,5.31,0,0,0,12,6.5,5.46,5.46,0,0,0,6.5,12Z\"/>\n",
              "  </svg>\n",
              "    </button>\n",
              "    <script>\n",
              "      (() => {\n",
              "      const buttonEl =\n",
              "        document.querySelector('#id_13d57ad0-ff7e-4d3b-abd1-e9d50dd02be7 button.colab-df-generate');\n",
              "      buttonEl.style.display =\n",
              "        google.colab.kernel.accessAllowed ? 'block' : 'none';\n",
              "\n",
              "      buttonEl.onclick = () => {\n",
              "        google.colab.notebook.generateWithVariable('dataCrop');\n",
              "      }\n",
              "      })();\n",
              "    </script>\n",
              "  </div>\n",
              "\n",
              "    </div>\n",
              "  </div>\n"
            ],
            "application/vnd.google.colaboratory.intrinsic+json": {
              "type": "dataframe",
              "variable_name": "dataCrop",
              "summary": "{\n  \"name\": \"dataCrop\",\n  \"rows\": 2069,\n  \"fields\": [\n    {\n      \"column\": \"Year\",\n      \"properties\": {\n        \"dtype\": \"number\",\n        \"std\": 9,\n        \"min\": 1990,\n        \"max\": 2024,\n        \"num_unique_values\": 35,\n        \"samples\": [\n          1999,\n          2009,\n          2013\n        ],\n        \"semantic_type\": \"\",\n        \"description\": \"\"\n      }\n    },\n    {\n      \"column\": \"Country\",\n      \"properties\": {\n        \"dtype\": \"category\",\n        \"num_unique_values\": 10,\n        \"samples\": [\n          \"Russia\",\n          \"Australia\",\n          \"Argentina\"\n        ],\n        \"semantic_type\": \"\",\n        \"description\": \"\"\n      }\n    },\n    {\n      \"column\": \"Region\",\n      \"properties\": {\n        \"dtype\": \"category\",\n        \"num_unique_values\": 34,\n        \"samples\": [\n          \"Siberian\",\n          \"North\",\n          \"Patagonia\"\n        ],\n        \"semantic_type\": \"\",\n        \"description\": \"\"\n      }\n    },\n    {\n      \"column\": \"Crop_Type\",\n      \"properties\": {\n        \"dtype\": \"category\",\n        \"num_unique_values\": 2,\n        \"samples\": [\n          \"Rice\",\n          \"Wheat\"\n        ],\n        \"semantic_type\": \"\",\n        \"description\": \"\"\n      }\n    },\n    {\n      \"column\": \"Average_Temperature\",\n      \"properties\": {\n        \"dtype\": \"number\",\n        \"std\": 11.446647390457871,\n        \"min\": -4.94,\n        \"max\": 34.99,\n        \"num_unique_values\": 1616,\n        \"samples\": [\n          16.3,\n          -4.36\n        ],\n        \"semantic_type\": \"\",\n        \"description\": \"\"\n      }\n    },\n    {\n      \"column\": \"Total_Precipitation\",\n      \"properties\": {\n        \"dtype\": \"number\",\n        \"std\": 806.8647431217494,\n        \"min\": 200.15,\n        \"max\": 2997.84,\n        \"num_unique_values\": 2059,\n        \"samples\": [\n          1722.3,\n          2406.25\n        ],\n        \"semantic_type\": \"\",\n        \"description\": \"\"\n      }\n    },\n    {\n      \"column\": \"CO2_Emissions\",\n      \"properties\": {\n        \"dtype\": \"number\",\n        \"std\": 8.729536021752182,\n        \"min\": 0.51,\n        \"max\": 30.0,\n        \"num_unique_values\": 1488,\n        \"samples\": [\n          4.23,\n          11.09\n        ],\n        \"semantic_type\": \"\",\n        \"description\": \"\"\n      }\n    },\n    {\n      \"column\": \"Crop_Yield\",\n      \"properties\": {\n        \"dtype\": \"number\",\n        \"std\": 1.0191411867517097,\n        \"min\": 0.45,\n        \"max\": 5.0,\n        \"num_unique_values\": 723,\n        \"samples\": [\n          3.29,\n          2.682\n        ],\n        \"semantic_type\": \"\",\n        \"description\": \"\"\n      }\n    },\n    {\n      \"column\": \"Irrigation_Access\",\n      \"properties\": {\n        \"dtype\": \"number\",\n        \"std\": 26.14455254114068,\n        \"min\": 10.06,\n        \"max\": 99.99,\n        \"num_unique_values\": 1845,\n        \"samples\": [\n          88.85,\n          57.87\n        ],\n        \"semantic_type\": \"\",\n        \"description\": \"\"\n      }\n    },\n    {\n      \"column\": \"Pesticide_Use\",\n      \"properties\": {\n        \"dtype\": \"number\",\n        \"std\": 14.668912784612472,\n        \"min\": 0.0,\n        \"max\": 49.99,\n        \"num_unique_values\": 1686,\n        \"samples\": [\n          13.66,\n          33.52\n        ],\n        \"semantic_type\": \"\",\n        \"description\": \"\"\n      }\n    },\n    {\n      \"column\": \"Fertilizer_Use\",\n      \"properties\": {\n        \"dtype\": \"number\",\n        \"std\": 28.87816969496248,\n        \"min\": 0.18,\n        \"max\": 99.98,\n        \"num_unique_values\": 1859,\n        \"samples\": [\n          3.52,\n          54.01\n        ],\n        \"semantic_type\": \"\",\n        \"description\": \"\"\n      }\n    },\n    {\n      \"column\": \"Soil_Health_Index\",\n      \"properties\": {\n        \"dtype\": \"number\",\n        \"std\": 19.925662092287844,\n        \"min\": 30.0,\n        \"max\": 100.0,\n        \"num_unique_values\": 1801,\n        \"samples\": [\n          67.94,\n          77.55\n        ],\n        \"semantic_type\": \"\",\n        \"description\": \"\"\n      }\n    },\n    {\n      \"column\": \"Economic_Impact\",\n      \"properties\": {\n        \"dtype\": \"number\",\n        \"std\": 421.7139230328848,\n        \"min\": 59.35,\n        \"max\": 2300.0,\n        \"num_unique_values\": 2047,\n        \"samples\": [\n          877.79,\n          190.74\n        ],\n        \"semantic_type\": \"\",\n        \"description\": \"\"\n      }\n    }\n  ]\n}"
            }
          },
          "metadata": {}
        }
      ],
      "source": [
        "# Question 2: Find the list of crop types produced by SerriFleur\n",
        "dataCrop = data_climate[data_climate[\"Crop_Type\"].isin([\"Rice\", \"Wheat\"])]\n",
        "display(dataCrop)"
      ]
    },
    {
      "cell_type": "code",
      "execution_count": 6,
      "metadata": {
        "id": "7qhsCq5uG4Jo",
        "outputId": "50df8946-45f6-4509-b54d-f3b22ee2f86c",
        "colab": {
          "base_uri": "https://localhost:8080/",
          "height": 443
        }
      },
      "outputs": [
        {
          "output_type": "display_data",
          "data": {
            "text/plain": [
              "       Country  Year Crop_Type  Average_Temperature  Total_Precipitation  \\\n",
              "0    Argentina  1990      Rice              25.2500          1540.486667   \n",
              "1    Argentina  1990     Wheat              10.7550           867.305000   \n",
              "2    Argentina  1991      Rice              14.3175           761.692500   \n",
              "3    Argentina  1992      Rice              14.8650          1190.220000   \n",
              "4    Argentina  1992     Wheat              27.5200          1304.713333   \n",
              "..         ...   ...       ...                  ...                  ...   \n",
              "660        USA  2022     Wheat              23.7650          1656.835000   \n",
              "661        USA  2023      Rice              -2.1100          1730.185000   \n",
              "662        USA  2023     Wheat              22.2000          1058.493333   \n",
              "663        USA  2024      Rice              22.1640          1199.048000   \n",
              "664        USA  2024     Wheat              10.2050          1751.595000   \n",
              "\n",
              "     CO2_Emissions  Crop_Yield  Irrigation_Access  Pesticide_Use  \\\n",
              "0        14.126667    2.686333          58.413333      42.223333   \n",
              "1        18.350000    2.686500          39.830000      16.875000   \n",
              "2        15.115000    2.538000          42.930000      29.302500   \n",
              "3        19.710000    2.794500          57.740000      33.495000   \n",
              "4        20.786667    1.838667          78.210000      30.903333   \n",
              "..             ...         ...                ...            ...   \n",
              "660      15.870000    2.837500          38.615000      27.900000   \n",
              "661       7.550000    2.440000          56.520000      25.205000   \n",
              "662      21.550000    1.686000          53.066667      23.673333   \n",
              "663      23.534000    1.203200          56.272000      11.388000   \n",
              "664      15.510000    1.981000          54.435000      41.565000   \n",
              "\n",
              "     Fertilizer_Use  Soil_Health_Index  Economic_Impact  \n",
              "0         18.710000          72.513333       618.393333  \n",
              "1         75.195000          75.215000       650.170000  \n",
              "2         59.152500          59.955000       749.937500  \n",
              "3         54.680000          40.260000      1190.750000  \n",
              "4         25.186667          53.616667       581.710000  \n",
              "..              ...                ...              ...  \n",
              "660       53.875000          39.430000       593.395000  \n",
              "661       10.305000          68.785000       590.925000  \n",
              "662       59.930000          57.743333       307.573333  \n",
              "663       59.418000          63.456000       442.964000  \n",
              "664       44.850000          67.390000       933.810000  \n",
              "\n",
              "[665 rows x 12 columns]"
            ],
            "text/html": [
              "\n",
              "  <div id=\"df-7a9b4a7e-15ce-47af-a8ea-b1c9fd68c6e9\" class=\"colab-df-container\">\n",
              "    <div>\n",
              "<style scoped>\n",
              "    .dataframe tbody tr th:only-of-type {\n",
              "        vertical-align: middle;\n",
              "    }\n",
              "\n",
              "    .dataframe tbody tr th {\n",
              "        vertical-align: top;\n",
              "    }\n",
              "\n",
              "    .dataframe thead th {\n",
              "        text-align: right;\n",
              "    }\n",
              "</style>\n",
              "<table border=\"1\" class=\"dataframe\">\n",
              "  <thead>\n",
              "    <tr style=\"text-align: right;\">\n",
              "      <th></th>\n",
              "      <th>Country</th>\n",
              "      <th>Year</th>\n",
              "      <th>Crop_Type</th>\n",
              "      <th>Average_Temperature</th>\n",
              "      <th>Total_Precipitation</th>\n",
              "      <th>CO2_Emissions</th>\n",
              "      <th>Crop_Yield</th>\n",
              "      <th>Irrigation_Access</th>\n",
              "      <th>Pesticide_Use</th>\n",
              "      <th>Fertilizer_Use</th>\n",
              "      <th>Soil_Health_Index</th>\n",
              "      <th>Economic_Impact</th>\n",
              "    </tr>\n",
              "  </thead>\n",
              "  <tbody>\n",
              "    <tr>\n",
              "      <th>0</th>\n",
              "      <td>Argentina</td>\n",
              "      <td>1990</td>\n",
              "      <td>Rice</td>\n",
              "      <td>25.2500</td>\n",
              "      <td>1540.486667</td>\n",
              "      <td>14.126667</td>\n",
              "      <td>2.686333</td>\n",
              "      <td>58.413333</td>\n",
              "      <td>42.223333</td>\n",
              "      <td>18.710000</td>\n",
              "      <td>72.513333</td>\n",
              "      <td>618.393333</td>\n",
              "    </tr>\n",
              "    <tr>\n",
              "      <th>1</th>\n",
              "      <td>Argentina</td>\n",
              "      <td>1990</td>\n",
              "      <td>Wheat</td>\n",
              "      <td>10.7550</td>\n",
              "      <td>867.305000</td>\n",
              "      <td>18.350000</td>\n",
              "      <td>2.686500</td>\n",
              "      <td>39.830000</td>\n",
              "      <td>16.875000</td>\n",
              "      <td>75.195000</td>\n",
              "      <td>75.215000</td>\n",
              "      <td>650.170000</td>\n",
              "    </tr>\n",
              "    <tr>\n",
              "      <th>2</th>\n",
              "      <td>Argentina</td>\n",
              "      <td>1991</td>\n",
              "      <td>Rice</td>\n",
              "      <td>14.3175</td>\n",
              "      <td>761.692500</td>\n",
              "      <td>15.115000</td>\n",
              "      <td>2.538000</td>\n",
              "      <td>42.930000</td>\n",
              "      <td>29.302500</td>\n",
              "      <td>59.152500</td>\n",
              "      <td>59.955000</td>\n",
              "      <td>749.937500</td>\n",
              "    </tr>\n",
              "    <tr>\n",
              "      <th>3</th>\n",
              "      <td>Argentina</td>\n",
              "      <td>1992</td>\n",
              "      <td>Rice</td>\n",
              "      <td>14.8650</td>\n",
              "      <td>1190.220000</td>\n",
              "      <td>19.710000</td>\n",
              "      <td>2.794500</td>\n",
              "      <td>57.740000</td>\n",
              "      <td>33.495000</td>\n",
              "      <td>54.680000</td>\n",
              "      <td>40.260000</td>\n",
              "      <td>1190.750000</td>\n",
              "    </tr>\n",
              "    <tr>\n",
              "      <th>4</th>\n",
              "      <td>Argentina</td>\n",
              "      <td>1992</td>\n",
              "      <td>Wheat</td>\n",
              "      <td>27.5200</td>\n",
              "      <td>1304.713333</td>\n",
              "      <td>20.786667</td>\n",
              "      <td>1.838667</td>\n",
              "      <td>78.210000</td>\n",
              "      <td>30.903333</td>\n",
              "      <td>25.186667</td>\n",
              "      <td>53.616667</td>\n",
              "      <td>581.710000</td>\n",
              "    </tr>\n",
              "    <tr>\n",
              "      <th>...</th>\n",
              "      <td>...</td>\n",
              "      <td>...</td>\n",
              "      <td>...</td>\n",
              "      <td>...</td>\n",
              "      <td>...</td>\n",
              "      <td>...</td>\n",
              "      <td>...</td>\n",
              "      <td>...</td>\n",
              "      <td>...</td>\n",
              "      <td>...</td>\n",
              "      <td>...</td>\n",
              "      <td>...</td>\n",
              "    </tr>\n",
              "    <tr>\n",
              "      <th>660</th>\n",
              "      <td>USA</td>\n",
              "      <td>2022</td>\n",
              "      <td>Wheat</td>\n",
              "      <td>23.7650</td>\n",
              "      <td>1656.835000</td>\n",
              "      <td>15.870000</td>\n",
              "      <td>2.837500</td>\n",
              "      <td>38.615000</td>\n",
              "      <td>27.900000</td>\n",
              "      <td>53.875000</td>\n",
              "      <td>39.430000</td>\n",
              "      <td>593.395000</td>\n",
              "    </tr>\n",
              "    <tr>\n",
              "      <th>661</th>\n",
              "      <td>USA</td>\n",
              "      <td>2023</td>\n",
              "      <td>Rice</td>\n",
              "      <td>-2.1100</td>\n",
              "      <td>1730.185000</td>\n",
              "      <td>7.550000</td>\n",
              "      <td>2.440000</td>\n",
              "      <td>56.520000</td>\n",
              "      <td>25.205000</td>\n",
              "      <td>10.305000</td>\n",
              "      <td>68.785000</td>\n",
              "      <td>590.925000</td>\n",
              "    </tr>\n",
              "    <tr>\n",
              "      <th>662</th>\n",
              "      <td>USA</td>\n",
              "      <td>2023</td>\n",
              "      <td>Wheat</td>\n",
              "      <td>22.2000</td>\n",
              "      <td>1058.493333</td>\n",
              "      <td>21.550000</td>\n",
              "      <td>1.686000</td>\n",
              "      <td>53.066667</td>\n",
              "      <td>23.673333</td>\n",
              "      <td>59.930000</td>\n",
              "      <td>57.743333</td>\n",
              "      <td>307.573333</td>\n",
              "    </tr>\n",
              "    <tr>\n",
              "      <th>663</th>\n",
              "      <td>USA</td>\n",
              "      <td>2024</td>\n",
              "      <td>Rice</td>\n",
              "      <td>22.1640</td>\n",
              "      <td>1199.048000</td>\n",
              "      <td>23.534000</td>\n",
              "      <td>1.203200</td>\n",
              "      <td>56.272000</td>\n",
              "      <td>11.388000</td>\n",
              "      <td>59.418000</td>\n",
              "      <td>63.456000</td>\n",
              "      <td>442.964000</td>\n",
              "    </tr>\n",
              "    <tr>\n",
              "      <th>664</th>\n",
              "      <td>USA</td>\n",
              "      <td>2024</td>\n",
              "      <td>Wheat</td>\n",
              "      <td>10.2050</td>\n",
              "      <td>1751.595000</td>\n",
              "      <td>15.510000</td>\n",
              "      <td>1.981000</td>\n",
              "      <td>54.435000</td>\n",
              "      <td>41.565000</td>\n",
              "      <td>44.850000</td>\n",
              "      <td>67.390000</td>\n",
              "      <td>933.810000</td>\n",
              "    </tr>\n",
              "  </tbody>\n",
              "</table>\n",
              "<p>665 rows × 12 columns</p>\n",
              "</div>\n",
              "    <div class=\"colab-df-buttons\">\n",
              "\n",
              "  <div class=\"colab-df-container\">\n",
              "    <button class=\"colab-df-convert\" onclick=\"convertToInteractive('df-7a9b4a7e-15ce-47af-a8ea-b1c9fd68c6e9')\"\n",
              "            title=\"Convert this dataframe to an interactive table.\"\n",
              "            style=\"display:none;\">\n",
              "\n",
              "  <svg xmlns=\"http://www.w3.org/2000/svg\" height=\"24px\" viewBox=\"0 -960 960 960\">\n",
              "    <path d=\"M120-120v-720h720v720H120Zm60-500h600v-160H180v160Zm220 220h160v-160H400v160Zm0 220h160v-160H400v160ZM180-400h160v-160H180v160Zm440 0h160v-160H620v160ZM180-180h160v-160H180v160Zm440 0h160v-160H620v160Z\"/>\n",
              "  </svg>\n",
              "    </button>\n",
              "\n",
              "  <style>\n",
              "    .colab-df-container {\n",
              "      display:flex;\n",
              "      gap: 12px;\n",
              "    }\n",
              "\n",
              "    .colab-df-convert {\n",
              "      background-color: #E8F0FE;\n",
              "      border: none;\n",
              "      border-radius: 50%;\n",
              "      cursor: pointer;\n",
              "      display: none;\n",
              "      fill: #1967D2;\n",
              "      height: 32px;\n",
              "      padding: 0 0 0 0;\n",
              "      width: 32px;\n",
              "    }\n",
              "\n",
              "    .colab-df-convert:hover {\n",
              "      background-color: #E2EBFA;\n",
              "      box-shadow: 0px 1px 2px rgba(60, 64, 67, 0.3), 0px 1px 3px 1px rgba(60, 64, 67, 0.15);\n",
              "      fill: #174EA6;\n",
              "    }\n",
              "\n",
              "    .colab-df-buttons div {\n",
              "      margin-bottom: 4px;\n",
              "    }\n",
              "\n",
              "    [theme=dark] .colab-df-convert {\n",
              "      background-color: #3B4455;\n",
              "      fill: #D2E3FC;\n",
              "    }\n",
              "\n",
              "    [theme=dark] .colab-df-convert:hover {\n",
              "      background-color: #434B5C;\n",
              "      box-shadow: 0px 1px 3px 1px rgba(0, 0, 0, 0.15);\n",
              "      filter: drop-shadow(0px 1px 2px rgba(0, 0, 0, 0.3));\n",
              "      fill: #FFFFFF;\n",
              "    }\n",
              "  </style>\n",
              "\n",
              "    <script>\n",
              "      const buttonEl =\n",
              "        document.querySelector('#df-7a9b4a7e-15ce-47af-a8ea-b1c9fd68c6e9 button.colab-df-convert');\n",
              "      buttonEl.style.display =\n",
              "        google.colab.kernel.accessAllowed ? 'block' : 'none';\n",
              "\n",
              "      async function convertToInteractive(key) {\n",
              "        const element = document.querySelector('#df-7a9b4a7e-15ce-47af-a8ea-b1c9fd68c6e9');\n",
              "        const dataTable =\n",
              "          await google.colab.kernel.invokeFunction('convertToInteractive',\n",
              "                                                    [key], {});\n",
              "        if (!dataTable) return;\n",
              "\n",
              "        const docLinkHtml = 'Like what you see? Visit the ' +\n",
              "          '<a target=\"_blank\" href=https://colab.research.google.com/notebooks/data_table.ipynb>data table notebook</a>'\n",
              "          + ' to learn more about interactive tables.';\n",
              "        element.innerHTML = '';\n",
              "        dataTable['output_type'] = 'display_data';\n",
              "        await google.colab.output.renderOutput(dataTable, element);\n",
              "        const docLink = document.createElement('div');\n",
              "        docLink.innerHTML = docLinkHtml;\n",
              "        element.appendChild(docLink);\n",
              "      }\n",
              "    </script>\n",
              "  </div>\n",
              "\n",
              "\n",
              "    <div id=\"df-5940ccc2-5eda-45cd-bb7c-6e76a0bff1d3\">\n",
              "      <button class=\"colab-df-quickchart\" onclick=\"quickchart('df-5940ccc2-5eda-45cd-bb7c-6e76a0bff1d3')\"\n",
              "                title=\"Suggest charts\"\n",
              "                style=\"display:none;\">\n",
              "\n",
              "<svg xmlns=\"http://www.w3.org/2000/svg\" height=\"24px\"viewBox=\"0 0 24 24\"\n",
              "     width=\"24px\">\n",
              "    <g>\n",
              "        <path d=\"M19 3H5c-1.1 0-2 .9-2 2v14c0 1.1.9 2 2 2h14c1.1 0 2-.9 2-2V5c0-1.1-.9-2-2-2zM9 17H7v-7h2v7zm4 0h-2V7h2v10zm4 0h-2v-4h2v4z\"/>\n",
              "    </g>\n",
              "</svg>\n",
              "      </button>\n",
              "\n",
              "<style>\n",
              "  .colab-df-quickchart {\n",
              "      --bg-color: #E8F0FE;\n",
              "      --fill-color: #1967D2;\n",
              "      --hover-bg-color: #E2EBFA;\n",
              "      --hover-fill-color: #174EA6;\n",
              "      --disabled-fill-color: #AAA;\n",
              "      --disabled-bg-color: #DDD;\n",
              "  }\n",
              "\n",
              "  [theme=dark] .colab-df-quickchart {\n",
              "      --bg-color: #3B4455;\n",
              "      --fill-color: #D2E3FC;\n",
              "      --hover-bg-color: #434B5C;\n",
              "      --hover-fill-color: #FFFFFF;\n",
              "      --disabled-bg-color: #3B4455;\n",
              "      --disabled-fill-color: #666;\n",
              "  }\n",
              "\n",
              "  .colab-df-quickchart {\n",
              "    background-color: var(--bg-color);\n",
              "    border: none;\n",
              "    border-radius: 50%;\n",
              "    cursor: pointer;\n",
              "    display: none;\n",
              "    fill: var(--fill-color);\n",
              "    height: 32px;\n",
              "    padding: 0;\n",
              "    width: 32px;\n",
              "  }\n",
              "\n",
              "  .colab-df-quickchart:hover {\n",
              "    background-color: var(--hover-bg-color);\n",
              "    box-shadow: 0 1px 2px rgba(60, 64, 67, 0.3), 0 1px 3px 1px rgba(60, 64, 67, 0.15);\n",
              "    fill: var(--button-hover-fill-color);\n",
              "  }\n",
              "\n",
              "  .colab-df-quickchart-complete:disabled,\n",
              "  .colab-df-quickchart-complete:disabled:hover {\n",
              "    background-color: var(--disabled-bg-color);\n",
              "    fill: var(--disabled-fill-color);\n",
              "    box-shadow: none;\n",
              "  }\n",
              "\n",
              "  .colab-df-spinner {\n",
              "    border: 2px solid var(--fill-color);\n",
              "    border-color: transparent;\n",
              "    border-bottom-color: var(--fill-color);\n",
              "    animation:\n",
              "      spin 1s steps(1) infinite;\n",
              "  }\n",
              "\n",
              "  @keyframes spin {\n",
              "    0% {\n",
              "      border-color: transparent;\n",
              "      border-bottom-color: var(--fill-color);\n",
              "      border-left-color: var(--fill-color);\n",
              "    }\n",
              "    20% {\n",
              "      border-color: transparent;\n",
              "      border-left-color: var(--fill-color);\n",
              "      border-top-color: var(--fill-color);\n",
              "    }\n",
              "    30% {\n",
              "      border-color: transparent;\n",
              "      border-left-color: var(--fill-color);\n",
              "      border-top-color: var(--fill-color);\n",
              "      border-right-color: var(--fill-color);\n",
              "    }\n",
              "    40% {\n",
              "      border-color: transparent;\n",
              "      border-right-color: var(--fill-color);\n",
              "      border-top-color: var(--fill-color);\n",
              "    }\n",
              "    60% {\n",
              "      border-color: transparent;\n",
              "      border-right-color: var(--fill-color);\n",
              "    }\n",
              "    80% {\n",
              "      border-color: transparent;\n",
              "      border-right-color: var(--fill-color);\n",
              "      border-bottom-color: var(--fill-color);\n",
              "    }\n",
              "    90% {\n",
              "      border-color: transparent;\n",
              "      border-bottom-color: var(--fill-color);\n",
              "    }\n",
              "  }\n",
              "</style>\n",
              "\n",
              "      <script>\n",
              "        async function quickchart(key) {\n",
              "          const quickchartButtonEl =\n",
              "            document.querySelector('#' + key + ' button');\n",
              "          quickchartButtonEl.disabled = true;  // To prevent multiple clicks.\n",
              "          quickchartButtonEl.classList.add('colab-df-spinner');\n",
              "          try {\n",
              "            const charts = await google.colab.kernel.invokeFunction(\n",
              "                'suggestCharts', [key], {});\n",
              "          } catch (error) {\n",
              "            console.error('Error during call to suggestCharts:', error);\n",
              "          }\n",
              "          quickchartButtonEl.classList.remove('colab-df-spinner');\n",
              "          quickchartButtonEl.classList.add('colab-df-quickchart-complete');\n",
              "        }\n",
              "        (() => {\n",
              "          let quickchartButtonEl =\n",
              "            document.querySelector('#df-5940ccc2-5eda-45cd-bb7c-6e76a0bff1d3 button');\n",
              "          quickchartButtonEl.style.display =\n",
              "            google.colab.kernel.accessAllowed ? 'block' : 'none';\n",
              "        })();\n",
              "      </script>\n",
              "    </div>\n",
              "\n",
              "  <div id=\"id_02d7626b-3910-4793-9990-86e9cd3509fb\">\n",
              "    <style>\n",
              "      .colab-df-generate {\n",
              "        background-color: #E8F0FE;\n",
              "        border: none;\n",
              "        border-radius: 50%;\n",
              "        cursor: pointer;\n",
              "        display: none;\n",
              "        fill: #1967D2;\n",
              "        height: 32px;\n",
              "        padding: 0 0 0 0;\n",
              "        width: 32px;\n",
              "      }\n",
              "\n",
              "      .colab-df-generate:hover {\n",
              "        background-color: #E2EBFA;\n",
              "        box-shadow: 0px 1px 2px rgba(60, 64, 67, 0.3), 0px 1px 3px 1px rgba(60, 64, 67, 0.15);\n",
              "        fill: #174EA6;\n",
              "      }\n",
              "\n",
              "      [theme=dark] .colab-df-generate {\n",
              "        background-color: #3B4455;\n",
              "        fill: #D2E3FC;\n",
              "      }\n",
              "\n",
              "      [theme=dark] .colab-df-generate:hover {\n",
              "        background-color: #434B5C;\n",
              "        box-shadow: 0px 1px 3px 1px rgba(0, 0, 0, 0.15);\n",
              "        filter: drop-shadow(0px 1px 2px rgba(0, 0, 0, 0.3));\n",
              "        fill: #FFFFFF;\n",
              "      }\n",
              "    </style>\n",
              "    <button class=\"colab-df-generate\" onclick=\"generateWithVariable('dataCrop2')\"\n",
              "            title=\"Generate code using this dataframe.\"\n",
              "            style=\"display:none;\">\n",
              "\n",
              "  <svg xmlns=\"http://www.w3.org/2000/svg\" height=\"24px\"viewBox=\"0 0 24 24\"\n",
              "       width=\"24px\">\n",
              "    <path d=\"M7,19H8.4L18.45,9,17,7.55,7,17.6ZM5,21V16.75L18.45,3.32a2,2,0,0,1,2.83,0l1.4,1.43a1.91,1.91,0,0,1,.58,1.4,1.91,1.91,0,0,1-.58,1.4L9.25,21ZM18.45,9,17,7.55Zm-12,3A5.31,5.31,0,0,0,4.9,8.1,5.31,5.31,0,0,0,1,6.5,5.31,5.31,0,0,0,4.9,4.9,5.31,5.31,0,0,0,6.5,1,5.31,5.31,0,0,0,8.1,4.9,5.31,5.31,0,0,0,12,6.5,5.46,5.46,0,0,0,6.5,12Z\"/>\n",
              "  </svg>\n",
              "    </button>\n",
              "    <script>\n",
              "      (() => {\n",
              "      const buttonEl =\n",
              "        document.querySelector('#id_02d7626b-3910-4793-9990-86e9cd3509fb button.colab-df-generate');\n",
              "      buttonEl.style.display =\n",
              "        google.colab.kernel.accessAllowed ? 'block' : 'none';\n",
              "\n",
              "      buttonEl.onclick = () => {\n",
              "        google.colab.notebook.generateWithVariable('dataCrop2');\n",
              "      }\n",
              "      })();\n",
              "    </script>\n",
              "  </div>\n",
              "\n",
              "    </div>\n",
              "  </div>\n"
            ],
            "application/vnd.google.colaboratory.intrinsic+json": {
              "type": "dataframe",
              "variable_name": "dataCrop2",
              "summary": "{\n  \"name\": \"dataCrop2\",\n  \"rows\": 665,\n  \"fields\": [\n    {\n      \"column\": \"Country\",\n      \"properties\": {\n        \"dtype\": \"category\",\n        \"num_unique_values\": 10,\n        \"samples\": [\n          \"Russia\",\n          \"Australia\",\n          \"France\"\n        ],\n        \"semantic_type\": \"\",\n        \"description\": \"\"\n      }\n    },\n    {\n      \"column\": \"Year\",\n      \"properties\": {\n        \"dtype\": \"number\",\n        \"std\": 10,\n        \"min\": 1990,\n        \"max\": 2024,\n        \"num_unique_values\": 35,\n        \"samples\": [\n          2016,\n          2003,\n          2014\n        ],\n        \"semantic_type\": \"\",\n        \"description\": \"\"\n      }\n    },\n    {\n      \"column\": \"Crop_Type\",\n      \"properties\": {\n        \"dtype\": \"category\",\n        \"num_unique_values\": 2,\n        \"samples\": [\n          \"Wheat\",\n          \"Rice\"\n        ],\n        \"semantic_type\": \"\",\n        \"description\": \"\"\n      }\n    },\n    {\n      \"column\": \"Average_Temperature\",\n      \"properties\": {\n        \"dtype\": \"number\",\n        \"std\": 8.066804394474222,\n        \"min\": -4.94,\n        \"max\": 34.94,\n        \"num_unique_values\": 656,\n        \"samples\": [\n          14.5375,\n          28.805\n        ],\n        \"semantic_type\": \"\",\n        \"description\": \"\"\n      }\n    },\n    {\n      \"column\": \"Total_Precipitation\",\n      \"properties\": {\n        \"dtype\": \"number\",\n        \"std\": 530.6625147548287,\n        \"min\": 210.3,\n        \"max\": 2988.68,\n        \"num_unique_values\": 665,\n        \"samples\": [\n          1669.4266666666665,\n          2076.515\n        ],\n        \"semantic_type\": \"\",\n        \"description\": \"\"\n      }\n    },\n    {\n      \"column\": \"CO2_Emissions\",\n      \"properties\": {\n        \"dtype\": \"number\",\n        \"std\": 5.847246401324875,\n        \"min\": 0.51,\n        \"max\": 29.97,\n        \"num_unique_values\": 647,\n        \"samples\": [\n          12.15,\n          16.808333333333334\n        ],\n        \"semantic_type\": \"\",\n        \"description\": \"\"\n      }\n    },\n    {\n      \"column\": \"Crop_Yield\",\n      \"properties\": {\n        \"dtype\": \"number\",\n        \"std\": 0.6551300688754703,\n        \"min\": 0.5040000000000001,\n        \"max\": 4.99,\n        \"num_unique_values\": 630,\n        \"samples\": [\n          1.9304000000000001,\n          2.5222499999999997\n        ],\n        \"semantic_type\": \"\",\n        \"description\": \"\"\n      }\n    },\n    {\n      \"column\": \"Irrigation_Access\",\n      \"properties\": {\n        \"dtype\": \"number\",\n        \"std\": 18.35816069290815,\n        \"min\": 10.49,\n        \"max\": 99.83,\n        \"num_unique_values\": 662,\n        \"samples\": [\n          65.54333333333334,\n          64.64\n        ],\n        \"semantic_type\": \"\",\n        \"description\": \"\"\n      }\n    },\n    {\n      \"column\": \"Pesticide_Use\",\n      \"properties\": {\n        \"dtype\": \"number\",\n        \"std\": 9.963066521239382,\n        \"min\": 0.26,\n        \"max\": 49.9,\n        \"num_unique_values\": 658,\n        \"samples\": [\n          17.65,\n          26.726666666666663\n        ],\n        \"semantic_type\": \"\",\n        \"description\": \"\"\n      }\n    },\n    {\n      \"column\": \"Fertilizer_Use\",\n      \"properties\": {\n        \"dtype\": \"number\",\n        \"std\": 17.987401250037966,\n        \"min\": 1.68,\n        \"max\": 98.15,\n        \"num_unique_values\": 656,\n        \"samples\": [\n          54.55,\n          23.448\n        ],\n        \"semantic_type\": \"\",\n        \"description\": \"\"\n      }\n    },\n    {\n      \"column\": \"Soil_Health_Index\",\n      \"properties\": {\n        \"dtype\": \"number\",\n        \"std\": 13.990019987224247,\n        \"min\": 30.18,\n        \"max\": 99.9,\n        \"num_unique_values\": 661,\n        \"samples\": [\n          69.8,\n          63.894000000000005\n        ],\n        \"semantic_type\": \"\",\n        \"description\": \"\"\n      }\n    },\n    {\n      \"column\": \"Economic_Impact\",\n      \"properties\": {\n        \"dtype\": \"number\",\n        \"std\": 273.0052206494703,\n        \"min\": 81.7,\n        \"max\": 2090.12,\n        \"num_unique_values\": 665,\n        \"samples\": [\n          362.8066666666666,\n          590.22\n        ],\n        \"semantic_type\": \"\",\n        \"description\": \"\"\n      }\n    }\n  ]\n}"
            }
          },
          "metadata": {}
        }
      ],
      "source": [
        "# Data cleaning\n",
        "\n",
        "dataCrop1 = dataCrop.drop(columns=[\"Region\"])\n",
        "dataCrop2 = dataCrop1.groupby([\"Country\", \"Year\", \"Crop_Type\"], as_index=False).mean()\n",
        "dataCrop2[\"Country\"] = dataCrop2[\"Country\"].astype(\"category\")\n",
        "dataCrop2[\"Crop_Type\"] = dataCrop2[\"Crop_Type\"].astype(\"category\")\n",
        "# TODO: Your code here\n",
        "display(dataCrop2)"
      ]
    },
    {
      "cell_type": "code",
      "execution_count": 7,
      "metadata": {
        "id": "A_x2lAOjbKyT",
        "outputId": "5d756f7c-a4a3-4aca-e29c-00cf7bc6f210",
        "colab": {
          "base_uri": "https://localhost:8080/"
        }
      },
      "outputs": [
        {
          "output_type": "stream",
          "name": "stdout",
          "text": [
            "<bound method Series.unique of 0      Argentina\n",
            "1      Argentina\n",
            "2      Argentina\n",
            "3      Argentina\n",
            "4      Argentina\n",
            "         ...    \n",
            "660          USA\n",
            "661          USA\n",
            "662          USA\n",
            "663          USA\n",
            "664          USA\n",
            "Name: Country, Length: 665, dtype: category\n",
            "Categories (10, object): ['Argentina', 'Australia', 'Brazil', 'Canada', ..., 'India', 'Nigeria',\n",
            "                          'Russia', 'USA']>\n"
          ]
        }
      ],
      "source": [
        "# Question 3: Find the total number of countries where Serrifleur operates in\n",
        "\n",
        "print(dataCrop2[\"Country\"].unique)"
      ]
    },
    {
      "cell_type": "markdown",
      "metadata": {
        "id": "-RjlKX5qnx_T"
      },
      "source": [
        "**Note on Climate Variables per Crop**:\n",
        "\n",
        "> You may notice that climate-related variables such as average temperature and total precipitation vary across different crops, even for the same country and year. This is because each crop is typically grown in different regions within a country, depending on factors like soil conditions, irrigation availability, and climatic suitability. For example, wheat might be cultivated in cooler northern regions while corn is grown in warmer southern areas. Therefore, the recorded climate data reflects regional conditions specific to where each crop is grown, rather than national averages. This is an important consideration when interpreting the results of this analysis."
      ]
    },
    {
      "cell_type": "markdown",
      "metadata": {
        "id": "T1uuTvNrxs7j"
      },
      "source": [
        "## Exercise 2: Exploratory Data Analysis"
      ]
    },
    {
      "cell_type": "markdown",
      "metadata": {
        "id": "79-w6Jfjx2rO"
      },
      "source": [
        "Before diving into modeling, your supervisor wants a clear picture of the current state of affairs in South America. You’re tasked with visualizing total precipitation level, economic impacts and soil health.\n",
        "\n",
        "Your mission:\n",
        "\n",
        "\n",
        "*   Plot total precipitation evolution over the years for each crop in Argentina\n",
        "*   Create a pie chart that shows the percentage share of the total economic impact for each crop in Brazil\n",
        "*   Create boxplots comparing soil health across crops and all the countries\n"
      ]
    },
    {
      "cell_type": "code",
      "execution_count": 46,
      "metadata": {
        "id": "pcwTpzwkyG24",
        "outputId": "4649f2b5-291c-4e43-e89d-94053a367a2d",
        "colab": {
          "base_uri": "https://localhost:8080/",
          "height": 487
        }
      },
      "outputs": [
        {
          "output_type": "display_data",
          "data": {
            "text/plain": [
              "<Figure size 900x500 with 1 Axes>"
            ],
            "image/png": "[encoded data removed]"
          },
          "metadata": {}
        }
      ],
      "source": [
        "# Question 4: Create the graph of the total precipitation evolution over the years for each crop in Argentina\n",
        "fig, ax = plt.subplots(figsize=(9, 5))\n",
        "argentina_data = data_climate[data_climate['Country'] == 'Argentina']\n",
        "\n",
        "\n",
        "\n",
        "graph = sns.boxplot(y= 'Total_Precipitation', hue='Crop_Type', x='Year'== 2010, data=argentina_data, ax=ax, palette='Set2')\n",
        "graph.set_xlabel('year = 2010')\n",
        "graph.set_ylabel('Precipitation')\n",
        "ax.set_title(\"precititation by year and crop\")\n",
        "plt.show();"
      ]
    },
    {
      "cell_type": "code",
      "execution_count": null,
      "metadata": {
        "id": "xrNXxOqVbu_p"
      },
      "outputs": [],
      "source": [
        "# Question 5: Create the pie chart that shows the percentage share of the totale economic impact for each crop in Brazil\n",
        "\n",
        "# TODO: Your code here\n"
      ]
    },
    {
      "cell_type": "code",
      "execution_count": null,
      "metadata": {
        "id": "lKQrxOLJb1ay"
      },
      "outputs": [],
      "source": [
        "# Question 6: Create the boxplots that compare the soil health index across crops and all the countries\n",
        "\n",
        "# TODO: Your code here"
      ]
    },
    {
      "cell_type": "markdown",
      "metadata": {
        "id": "DER8gy_4-BTE"
      },
      "source": [
        "## Exercise 3: Clustering"
      ]
    },
    {
      "cell_type": "markdown",
      "metadata": {
        "id": "GrvsCgCH-MLS"
      },
      "source": [
        "SerriFleur aims to classify countries based on their farming practices in order to provide region-specific recommendations. You propose using unsupervised learning to identify distinct fertilizer usage profiles.\n",
        "\n",
        "Your mission:\n",
        "\n",
        "\n",
        "\n",
        "*   For each crop type, use agglomerative clustering on fertilizer usage with 4 clusters, euclidian distance metric and ward linkage\n",
        "*   Analyze whether wheat and rice follow similar cluster pattern\n",
        "*   Plot the dendrogram representation of fertilizer usage, for each crop type, with euclidian distance metric and average linkage\n"
      ]
    },
    {
      "cell_type": "code",
      "execution_count": null,
      "metadata": {
        "id": "dZc_M75iGq_6"
      },
      "outputs": [],
      "source": [
        "# Agglomerative Clustering for Wheat\n",
        "# Question 7: Find the number of values in each clustering label\n",
        "\n",
        "# TODO: Your code here"
      ]
    },
    {
      "cell_type": "code",
      "execution_count": null,
      "metadata": {
        "id": "7poRM7IRcTQs"
      },
      "outputs": [],
      "source": [
        "# Agglomerative Clustering for Rice\n",
        "# Question 7: Find the number of values in each clustering label\n",
        "\n",
        "# TODO: Your code here"
      ]
    },
    {
      "cell_type": "code",
      "execution_count": null,
      "metadata": {
        "id": "IBEACtFHc4Qn"
      },
      "outputs": [],
      "source": [
        "# Question 8: Hierarchical Clustering for Wheat\n",
        "# Don't forget to reshape the values with numpy\n",
        "\n",
        "# TODO: Your code here"
      ]
    },
    {
      "cell_type": "code",
      "execution_count": null,
      "metadata": {
        "id": "4q5FZoOxc4W2"
      },
      "outputs": [],
      "source": [
        "# Question 8: Hierarchical Clustering for Rice\n",
        "# Don't forget to reshape the values with numpy\n",
        "\n",
        "# TODO: Your code here"
      ]
    },
    {
      "cell_type": "markdown",
      "metadata": {
        "id": "NQibWBMzFeEF"
      },
      "source": [
        "## Exercise 4: Simple Linear Regression"
      ]
    },
    {
      "cell_type": "markdown",
      "metadata": {
        "id": "rczsQUbZF7B0"
      },
      "source": [
        "A policymaker asks a simple question: \"Does CO₂ have a measurable impact on crop yield for wheat and rice ?\"\n",
        "You decide to test this using a basic regression model.\n",
        "\n",
        "Your mission:\n",
        "\n",
        "*   Plot the heatmap of correlations for numeric columns only.\n",
        "*   Model Crop_Yield as a function of CO2_Emissions (with `test_size = 0.3`, `random_state = 123` and `shuffle=True`).\n",
        "*   Use MinMaxScaler and find the $R^2$, the MSE and the MAE.\n",
        "\n",
        "\n",
        "\n",
        "\n"
      ]
    },
    {
      "cell_type": "code",
      "execution_count": null,
      "metadata": {
        "id": "iGG4PSFS4IR7"
      },
      "outputs": [],
      "source": [
        "# Question 9: Plot heatmap of correlations\n",
        "\n",
        "# TODO: Your code here"
      ]
    },
    {
      "cell_type": "code",
      "execution_count": null,
      "metadata": {
        "id": "_q_obBNVBWkU"
      },
      "outputs": [],
      "source": [
        "# Seperate features and labels\n",
        "\n",
        "# TODO: Your code here"
      ]
    },
    {
      "cell_type": "code",
      "execution_count": null,
      "metadata": {
        "id": "LcN1pFtABWm9"
      },
      "outputs": [],
      "source": [
        "# Split data into train and test sets\n",
        "\n",
        "# TODO: Your code here"
      ]
    },
    {
      "cell_type": "code",
      "execution_count": null,
      "metadata": {
        "id": "jTRoLaGGBWqB"
      },
      "outputs": [],
      "source": [
        "# Scale the data\n",
        "\n",
        "# TODO: Your code here"
      ]
    },
    {
      "cell_type": "code",
      "execution_count": null,
      "metadata": {
        "id": "xeZuEedGBWsu"
      },
      "outputs": [],
      "source": [
        "# Create linear regression model and fit into the training data\n",
        "\n",
        "# TODO: Your code here"
      ]
    },
    {
      "cell_type": "code",
      "execution_count": null,
      "metadata": {
        "id": "nRng8tlLLXX_"
      },
      "outputs": [],
      "source": [
        "# Question 10: Print out the R2, MSE and MAE score\n",
        "\n",
        "# TODO: Your code here"
      ]
    },
    {
      "cell_type": "markdown",
      "metadata": {
        "id": "MPJQWRrGLo4-"
      },
      "source": [
        "## Exercise 5: Multivariate Regression with Categorical Variables"
      ]
    },
    {
      "cell_type": "markdown",
      "metadata": {
        "id": "ZD3XdUftLt7F"
      },
      "source": [
        "Real-life relationships are rarely one-dimensional. You now create a new model to include all the other variables of the dataset, some of which are key climate factors.\n",
        "\n",
        "Your mission:\n",
        "\n",
        "\n",
        "*   Transform the column `Crop_Type` using `LabelEncoder`function and the column `Country` using `One-Hot` encoding\n",
        "*   Build a multivariate regression model using all the variables to predict crop yield  (with `test_size = 0.3`, `random_state = 123` and `shuffle=True`)\n",
        "*   Compare its performance with the previous model of part 4\n",
        "\n"
      ]
    },
    {
      "cell_type": "code",
      "execution_count": null,
      "metadata": {
        "id": "E8rTI6rvMGBq"
      },
      "outputs": [],
      "source": [
        "# Seperate features and labels, and transform the columns Crop_Type and Country (don't forget to delete the old columns)\n",
        "\n",
        "# TODO: Your code here"
      ]
    },
    {
      "cell_type": "code",
      "execution_count": null,
      "metadata": {
        "id": "J2XSlS8Negj1"
      },
      "outputs": [],
      "source": [
        "# Split data into train and test sets, create linear regression model and fit into the training data\n",
        "\n",
        "# TODO: Your code here"
      ]
    },
    {
      "cell_type": "code",
      "execution_count": null,
      "metadata": {
        "id": "p2HkVEyQetPm"
      },
      "outputs": [],
      "source": [
        "# Question 11: Print out the R2, MSE and MAE score\n",
        "\n",
        "# TODO: Your code here"
      ]
    },
    {
      "cell_type": "markdown",
      "metadata": {
        "id": "zoHDJMbEuj5K"
      },
      "source": [
        "# Part 2: Association Rules - Turn movies ratings into bussiness insights!\n",
        "\n",
        "Lights, Camera, Data!\n",
        "\n",
        "Are you a movie fan? I bet you are! Have you ever wondered how streaming platforms like Netflix seem to know exactly which movie you'll love next? You might have heard that they use recommendation algorithms and wondered how they work.\n",
        "\n",
        "In this assignment, you'll explore how **association rules** can be used to develop a simple recommendation algorithm. The idea is simple: by analyzing which movies are frequently watched together, we can uncover patterns and use these insights to suggest movies based on a user's viewing history.\n",
        "\n",
        "Now, let's dive in and make it happen!"
      ]
    },
    {
      "cell_type": "markdown",
      "metadata": {
        "id": "0-bCiqhv0fvp"
      },
      "source": [
        "## Exercise 1: Data Processing\n",
        "\n",
        "We will use a subset of MoviesLens dataset, which consists of user ratings for a list of movies and information about the movies themselves (i.e., title and genres).\n",
        "\n",
        "First, you need to load the ratings data from the URL below, and try to print out the size of the dataset, the number of users who provided ratings, and the number of movies that have been rated.\n",
        "\n",
        "URL = \"https://media.githubusercontent.com/media/michalis0/Business-Intelligence-and-Analytics/refs/heads/master/data/ml/ratings.csv\"\n",
        "\n",
        "The `ratings` dataset contains four columns:\n",
        "\n",
        "- `userID`: The ID of the user.\n",
        "- `movieID`: The ID of the movie being rated.\n",
        "- `rating`: The rating given by the user for the corresponding movie.\n",
        "- `timestamp`: The timestamp when the rating was recorded."
      ]
    },
    {
      "cell_type": "code",
      "execution_count": null,
      "metadata": {
        "id": "CftwBlXA0ppv"
      },
      "outputs": [],
      "source": [
        "df_ratings = # TODO: Your code here"
      ]
    },
    {
      "cell_type": "code",
      "execution_count": null,
      "metadata": {
        "id": "QmGTFRzN1-5p"
      },
      "outputs": [],
      "source": [
        "# Print the first 5 rows of the dataframe\n",
        "\n",
        "# TODO: Your code here"
      ]
    },
    {
      "cell_type": "code",
      "execution_count": null,
      "metadata": {
        "id": "rU7XXvHV2hmc"
      },
      "outputs": [],
      "source": [
        "# Print the shape of the dataframe\n",
        "\n",
        "# TODO: Your code here"
      ]
    },
    {
      "cell_type": "code",
      "execution_count": null,
      "metadata": {
        "id": "DMzAtZaclexT"
      },
      "outputs": [],
      "source": [
        "# Print the number of ratings available\n",
        "\n",
        "# TODO: Your code here"
      ]
    },
    {
      "cell_type": "code",
      "execution_count": null,
      "metadata": {
        "id": "_9AYnki-2jlw"
      },
      "outputs": [],
      "source": [
        "# Print the number of users who provided ratings\n",
        "\n",
        "# TODO: Your code here"
      ]
    },
    {
      "cell_type": "code",
      "execution_count": null,
      "metadata": {
        "id": "8QVOte9v20ih"
      },
      "outputs": [],
      "source": [
        "# Print the number of movies have been rated\n",
        "\n",
        "# TODO: Your code here"
      ]
    },
    {
      "cell_type": "markdown",
      "metadata": {
        "id": "dso5zAr22_Tv"
      },
      "source": [
        "[texte du lien](https://)Now, we need to transform the dataset into a matrix of size `n_users` × `n_movies`, where each row represents a user's ratings for all movies. If a user has not rated a movie, the rating will be 0.\n",
        "\n",
        "To create this matrix, we will use the `pivot` function from pandas."
      ]
    },
    {
      "cell_type": "code",
      "execution_count": null,
      "metadata": {
        "id": "Ro1m0SFh3qd9"
      },
      "outputs": [],
      "source": [
        "df_ratings_pivot = df_ratings.pivot(index='userId', columns='movieId', values='rating')\n",
        "df_ratings_pivot.head()"
      ]
    },
    {
      "cell_type": "markdown",
      "metadata": {
        "id": "mBOdgXSs31tQ"
      },
      "source": [
        "You can see that there are a lot of NaN values because each user rates only a subset of movies (those they have watched). We need to fill these NaN values with 0s."
      ]
    },
    {
      "cell_type": "code",
      "execution_count": null,
      "metadata": {
        "id": "VrY5mpFa31IF"
      },
      "outputs": [],
      "source": [
        "# Replace NaN values with 0\n",
        "df_ratings_pivot.fillna(0, inplace=True)\n",
        "df_ratings_pivot.head()"
      ]
    },
    {
      "cell_type": "markdown",
      "metadata": {
        "id": "UVftYrr84REC"
      },
      "source": [
        "Next, we don’t just want to identify movies that are frequently watched together—we want to focus on the ones that people actually enjoy. To do this, we'll consider a rating of 3 or higher as an indicator that a viewer liked the movie.\n",
        "\n",
        "Therefore, we need to map ratings ≥ 3 to `True` (liked) and ratings below 3 to `False` (not liked)."
      ]
    },
    {
      "cell_type": "code",
      "execution_count": null,
      "metadata": {
        "id": "cfa6Y98p4Q1R"
      },
      "outputs": [],
      "source": [
        "df_ratings_pivot = df_ratings_pivot.map(lambda x: True if x >= 3 else False)\n",
        "df_ratings_pivot.head()"
      ]
    },
    {
      "cell_type": "markdown",
      "metadata": {
        "id": "MLBs1CBq5Fqq"
      },
      "source": [
        "Now, we are ready to apply the association rules!!"
      ]
    },
    {
      "cell_type": "markdown",
      "metadata": {
        "id": "JOE7lwgH5K29"
      },
      "source": [
        "## Exercise 2: Association Rules\n",
        "\n"
      ]
    },
    {
      "cell_type": "markdown",
      "metadata": {
        "id": "KfxMhg1W5SbG"
      },
      "source": [
        "We will apply the **Apriori algorithm** to identify interesting association rules.\n",
        "\n",
        "First, we need to find the frequent itemsets using the following configurations:\n",
        "\n",
        "`min_support = 0.1`\n",
        "`max_len = 2`"
      ]
    },
    {
      "cell_type": "code",
      "execution_count": null,
      "metadata": {
        "id": "ICFUSwuL5O5r"
      },
      "outputs": [],
      "source": [
        "# Find the frequent itemsets\n",
        "\n",
        "# TODO: Your code here"
      ]
    },
    {
      "cell_type": "code",
      "execution_count": null,
      "metadata": {
        "id": "B9bM-Qy5vU24"
      },
      "outputs": [],
      "source": [
        "# Question 12: Find the number of itemsets\n",
        "\n",
        "# TODO: Your code here"
      ]
    },
    {
      "cell_type": "markdown",
      "metadata": {
        "id": "lDeuwi29DVp5"
      },
      "source": [
        "Now, we will mine the association rules from the frequent itemsets found above using `metric='lift'` and `min_threshold=1`."
      ]
    },
    {
      "cell_type": "code",
      "execution_count": null,
      "metadata": {
        "id": "BpTutS_y5snY"
      },
      "outputs": [],
      "source": [
        "# Find association rules\n",
        "\n",
        "# TODO: Your code here"
      ]
    },
    {
      "cell_type": "markdown",
      "metadata": {
        "id": "1WI45Ixu5ulJ"
      },
      "source": [
        "Now, let's map the movie IDs with their titles so we can identify them.\n",
        "\n",
        "First, let's load the `movies` dataset from this URL: \"https://media.githubusercontent.com/media/michalis0/Business-Intelligence-and-Analytics/refs/heads/master/data/ml/ratings.csv\"\n",
        "\n",
        "You will see that the `movies` dataset has 3 columns:\n",
        "- `movieID`: The ID of the movie.\n",
        "- `title`: The title of the movie.\n",
        "- `genres`: The genres of the movie."
      ]
    },
    {
      "cell_type": "code",
      "execution_count": null,
      "metadata": {
        "id": "2-Twult_53le"
      },
      "outputs": [],
      "source": [
        "df_movies = pd.read_csv(\"https://media.githubusercontent.com/media/michalis0/Business-Intelligence-and-Analytics/refs/heads/master/data/ml/movies.csv\")\n",
        "df_movies.head()"
      ]
    },
    {
      "cell_type": "markdown",
      "metadata": {
        "id": "ex2GS92bxuuO"
      },
      "source": [
        "In the following cell, we provide the code to map movie IDs with their titles. We assume that you are using the variable `rules` to store the association rules. If you used a different variable name, please update the code accordingly."
      ]
    },
    {
      "cell_type": "code",
      "execution_count": null,
      "metadata": {
        "id": "R2udb46m5_Ew"
      },
      "outputs": [],
      "source": [
        "def get_movie_name(movie_id):\n",
        "    return df_movies[df_movies['movieId'] == movie_id]['title'].values[0]"
      ]
    },
    {
      "cell_type": "code",
      "execution_count": null,
      "metadata": {
        "id": "Fhrp7hCK575C"
      },
      "outputs": [],
      "source": [
        "# Map antecedents and consequents with movie names\n",
        "rules['antecedents'] = rules['antecedents'].apply(lambda x: get_movie_name(list(x)[0]))\n",
        "rules['consequents'] = rules['consequents'].apply(lambda x: get_movie_name(list(x)[0]))\n",
        "rules.head()"
      ]
    },
    {
      "cell_type": "markdown",
      "metadata": {
        "id": "z7TzzpnwzmVX"
      },
      "source": [
        "Now, we are ready to find out the most interesting association rules (i.e a pair of movies that are watched together) in term of the `lift` metric"
      ]
    },
    {
      "cell_type": "code",
      "execution_count": null,
      "metadata": {
        "id": "_1gyrL9T6BSl"
      },
      "outputs": [],
      "source": [
        "# Question 13: Find the most interesting rule\n",
        "\n",
        "# TODO: Your code here"
      ]
    },
    {
      "cell_type": "code",
      "execution_count": null,
      "metadata": {
        "id": "ZrLc1z998OhB"
      },
      "outputs": [],
      "source": [
        "# Question 14: Find the movie that is the most frequently watched together with \"Beauty and the beast (1991)\"\n",
        "\n",
        "# TODO: Your code here"
      ]
    },
    {
      "cell_type": "markdown",
      "metadata": {
        "id": "VZBY_arrLcWk"
      },
      "source": [
        "# Part 3: Binary Classification"
      ]
    },
    {
      "cell_type": "markdown",
      "metadata": {
        "id": "fkPr8HtvZZYN"
      },
      "source": [
        "You are working at a leading Tour & Travel Company, and there’s trouble on the horizon — some customers are slipping away, never to book again! Your job is to predict which customers are at risk of churning and help the company keep them engaged.\n",
        "\n",
        "Using historical customer data, you’ll use binary classification algorithms to identify potential churners before they disappear.\n",
        "\n",
        "First, you need to load the dataset from this URL: \"https://media.githubusercontent.com/media/michalis0/Business-Intelligence-and-Analytics/refs/heads/master/data/travel.csv\"\n",
        "\n",
        "The dataset consists of following columns:\n",
        "- `Age`: Age of customer.\n",
        "- `FrequentFlyer`: Whether the customer takes frequent flights.\n",
        "- `AnnualIncomeClass`: Class of the customer's annual income.\n",
        "- `ServicesOpted`: Number of times services opted during recent years.\n",
        "- `AccountSyncedToSocialMedia`: Whether company account of the user is synchronised to their social media.\n",
        "- `BookedHotelOrNot`: Whether the customer books hotels using company services.\n",
        "- `Target`: Whether the customer is a churner (1 for yes, 0 for no).\n",
        "\n",
        "Try to print out the number of samples available in the dataset and types of each columns."
      ]
    },
    {
      "cell_type": "code",
      "execution_count": null,
      "metadata": {
        "id": "JAx4x_uEZZYP"
      },
      "outputs": [],
      "source": [
        "df_travel = # TODO: Your code here"
      ]
    },
    {
      "cell_type": "code",
      "execution_count": null,
      "metadata": {
        "id": "2srwkkniZZYP"
      },
      "outputs": [],
      "source": [
        "# Print the first 5 rows\n",
        "\n",
        "# TODO: Your code here"
      ]
    },
    {
      "cell_type": "code",
      "execution_count": null,
      "metadata": {
        "id": "6ddWtTexZZYP"
      },
      "outputs": [],
      "source": [
        "# Print the number of samples in the dataset\n",
        "\n",
        "# TODO: Your code here"
      ]
    },
    {
      "cell_type": "code",
      "execution_count": null,
      "metadata": {
        "id": "oeaTRGBLZZYQ"
      },
      "outputs": [],
      "source": [
        "# Print the column types\n",
        "\n",
        "# TODO: Your code here"
      ]
    },
    {
      "cell_type": "markdown",
      "metadata": {
        "id": "Yv1s78JGZZYQ"
      },
      "source": [
        "## Exercise 1: Preprocess\n"
      ]
    },
    {
      "cell_type": "markdown",
      "metadata": {
        "id": "-CWXqxFKZZYQ"
      },
      "source": [
        "First, we want to convert the columns with an object data type to\n",
        "a **categorical** one and visualize the correlation heatmap of the dataset's features."
      ]
    },
    {
      "cell_type": "code",
      "execution_count": null,
      "metadata": {
        "id": "GnwfIbXJZZYQ"
      },
      "outputs": [],
      "source": [
        "for col in df_travel.select_dtypes(include=['object']).columns:\n",
        "    df_travel[col] = pd.Categorical(df_travel[col]).codes"
      ]
    },
    {
      "cell_type": "code",
      "execution_count": null,
      "metadata": {
        "id": "cMkt1Ek2ZZYQ"
      },
      "outputs": [],
      "source": [
        "# Question 15: Plot heatmap of correlations\n",
        "\n",
        "# TODO: Your code here"
      ]
    },
    {
      "cell_type": "markdown",
      "metadata": {
        "id": "6H5CmDzvPS8r"
      },
      "source": [
        "Now, let's separate the dataset into features (X) and labels (y). Then, split the data into train and test sets using `train_test_split` function from Sklearn with `test_size=0.2`, `random_state=42`, and set `stratify=y` to preserve the label distribution in both sets."
      ]
    },
    {
      "cell_type": "code",
      "execution_count": null,
      "metadata": {
        "id": "-FyAxE8XZZYQ"
      },
      "outputs": [],
      "source": [
        "# Seperate the dataset into features and labels\n",
        "\n",
        "# TODO: Your code here"
      ]
    },
    {
      "cell_type": "code",
      "execution_count": null,
      "metadata": {
        "id": "I5odTcusZZYQ"
      },
      "outputs": [],
      "source": [
        "# Split into train and test sets\n",
        "\n",
        "# TODO: Your code here"
      ]
    },
    {
      "cell_type": "markdown",
      "metadata": {
        "id": "dEKa3hs8ZZYQ"
      },
      "source": [
        "Before building any model, it's useful to establish a simple reference point. Imagine predicting the most frequent class for every single observation—no learning, just repetition. The accuracy you'd get from that naive approach is called the baseline accuracy. It’s the minimum benchmark any meaningful model should aim to outperform."
      ]
    },
    {
      "cell_type": "code",
      "execution_count": null,
      "metadata": {
        "id": "81FKYwfGVcEi"
      },
      "outputs": [],
      "source": [
        "# Question 16: Calculate baseline accuracy\n",
        "\n",
        "# TODO: Your code here"
      ]
    },
    {
      "cell_type": "markdown",
      "metadata": {
        "id": "m_dCOOSkVlE9"
      },
      "source": [
        "Now, let's standardize the features using `StandardScaler` from Sklearn."
      ]
    },
    {
      "cell_type": "code",
      "execution_count": null,
      "metadata": {
        "id": "JsXoz_P4ZZYR"
      },
      "outputs": [],
      "source": [
        "# Standardise features\n",
        "\n",
        "# TODO: Your code here"
      ]
    },
    {
      "cell_type": "markdown",
      "metadata": {
        "id": "Dh7QqELYZZYR"
      },
      "source": [
        "## Exercise 2: Logistic regression"
      ]
    },
    {
      "cell_type": "markdown",
      "metadata": {
        "id": "ZEwks1h_WS-A"
      },
      "source": [
        "First, try use logistic regression for use our data. Use LogisticRegression with the following setting:\n",
        "`penalty='l2', solver='lbfgs', max_iter=1000, random_state=30`"
      ]
    },
    {
      "cell_type": "code",
      "execution_count": null,
      "metadata": {
        "id": "CuBxn9IqZZYR"
      },
      "outputs": [],
      "source": [
        "# Logistic Regression\n",
        "\n",
        "# TODO: Your code here"
      ]
    },
    {
      "cell_type": "code",
      "execution_count": null,
      "metadata": {
        "id": "53ODkCfEZZYR"
      },
      "outputs": [],
      "source": [
        "# Question 17: Find the test accuracy\n",
        "\n",
        "# TODO: Your code here"
      ]
    },
    {
      "cell_type": "markdown",
      "metadata": {
        "id": "eh_52S9-ZZYR"
      },
      "source": [
        "Next, train a logistic regression classifier with cross-validation. Use 5 folds and 9 values in the logscale between $10^{-4}$ and $10^4$ for the regularizer parameter. For the rest of the arguments, we use the same values as we used for the logistic regression with no cross validation.\n",
        "\n",
        "__Important:__ Set the following values for the arguments:\n",
        "`\n",
        "penalty='l2', solver='lbfgs', max_iter=1000, random_state=42, cv=4, Cs=*9*\n",
        "`"
      ]
    },
    {
      "cell_type": "code",
      "execution_count": null,
      "metadata": {
        "id": "exDVJgXpZZYR"
      },
      "outputs": [],
      "source": [
        "# Train a logistic regression classifier with cross-validation\n",
        "\n",
        "# TODO: Your code here"
      ]
    },
    {
      "cell_type": "code",
      "execution_count": null,
      "metadata": {
        "id": "RU3uVRbJZZYR"
      },
      "outputs": [],
      "source": [
        "# Question 18: Find the value of the regularization parameter and the test accuracy\n",
        "\n",
        "# TODO: Your code here"
      ]
    },
    {
      "cell_type": "markdown",
      "metadata": {
        "id": "WP8DzZbSZZYR"
      },
      "source": [
        "## Exercise 3: KNN classifier"
      ]
    },
    {
      "cell_type": "markdown",
      "metadata": {
        "id": "WN_YZqG-bQHb"
      },
      "source": [
        "Use the KNeighborClassifier from sklearn using the following setting:\n",
        "`n_neighbors=7, p=2, weights='uniform', algorithm=\"kd_tree\"`"
      ]
    },
    {
      "cell_type": "code",
      "execution_count": null,
      "metadata": {
        "id": "4rLsdM44ZZYS"
      },
      "outputs": [],
      "source": [
        "# KNeighborClassifier\n",
        "\n",
        "# TODO: Your code here"
      ]
    },
    {
      "cell_type": "markdown",
      "metadata": {
        "id": "WYk2lZawbcd-"
      },
      "source": [
        "Use `GridSearchCV` to find the best hyper-parameters for your KNN model. Use values between 1 and 10 for `n_neighbors` argument and use either 'uniform' or 'distance' for the `weights` argument. Use a 5-fold cross validation. This translate to the following values for the arguments of the `GridSearchCV`:\n",
        "```\n",
        "param_grid={\"n_neighbors\": range(1, 11), \"weights\":[\"uniform\", \"distance\"]}, cv=5\n",
        "```"
      ]
    },
    {
      "cell_type": "code",
      "execution_count": null,
      "metadata": {
        "id": "FNCfOnC7ZZYS"
      },
      "outputs": [],
      "source": [
        "# Question 19: Find the accuracy of the best KNN model\n",
        "\n",
        "# TODO: Your code here"
      ]
    },
    {
      "cell_type": "code",
      "execution_count": null,
      "metadata": {
        "id": "LXxNNB8D1dRN"
      },
      "outputs": [],
      "source": [
        "# Question 20: Find the 'n_neighbors' and 'weights' values for the best KNN model\n",
        "\n",
        "# TODO: Your code here"
      ]
    },
    {
      "cell_type": "markdown",
      "metadata": {
        "id": "qCOwJWA2ZZYS"
      },
      "source": [
        "## Exercise 4: Decision Tree"
      ]
    },
    {
      "cell_type": "markdown",
      "metadata": {
        "id": "g633fLfGcpze"
      },
      "source": [
        "Train a Decision Tree classifier on the training data. Use the following values for the arguments of the decision tree:\n",
        "```\n",
        "criterion=\"gini\", max_depth=3, random_state=30\n",
        "```"
      ]
    },
    {
      "cell_type": "code",
      "execution_count": null,
      "metadata": {
        "id": "Pdm9MBY0ZZYS"
      },
      "outputs": [],
      "source": [
        "# Decision Tree\n",
        "\n",
        "# TODO: Your code here"
      ]
    },
    {
      "cell_type": "markdown",
      "metadata": {
        "id": "fwZfFUKRZZYS"
      },
      "source": [
        "Use `GridSearchCV` to find the best hyper-parameters for your decision tree model. Use values between 1 and 7 for `max_depth` argument and use either 'gini' or 'entropy' for the `criterion` argument. Use a 5-fold cross validation. This translate to the following values for the arguments of the `GridSearchCV`:\n",
        "```\n",
        "param_grid={\"max_depth\": range(1, 8), \"criterion\":[\"gini\", \"entropy\"]}, cv=5\n",
        "```"
      ]
    },
    {
      "cell_type": "code",
      "execution_count": null,
      "metadata": {
        "id": "L9PMYnAzZZYS"
      },
      "outputs": [],
      "source": [
        "# Question 21: Find the accuracy of the best decision tree model\n",
        "\n",
        "# TODO: Your code here"
      ]
    },
    {
      "cell_type": "code",
      "execution_count": null,
      "metadata": {
        "id": "mzv6LpnLZZYn"
      },
      "outputs": [],
      "source": [
        "# Question 22: Find the 'criterion' and 'max_depth' values for the best decision tree model\n",
        "\n",
        "# TODO: Your code here"
      ]
    },
    {
      "cell_type": "markdown",
      "metadata": {
        "id": "pfT4Z_R8a_h0"
      },
      "source": [
        "The company places a strong emphasis on keeping its customers and has solid resources dedicated to retention. In such a case, choosing the right evaluation metric becomes crucial. The answer lies in understanding what matters most in this context.\n"
      ]
    },
    {
      "cell_type": "markdown",
      "metadata": {
        "id": "8dcAiY9-fPxi"
      },
      "source": [
        "Question 23: Find the best metric for the company\n",
        "\n",
        "> TODO: Your answer here"
      ]
    },
    {
      "cell_type": "code",
      "execution_count": null,
      "metadata": {
        "id": "n2ADWjoMyiII"
      },
      "outputs": [],
      "source": [
        "# Question 24: Find the model that gives the best result using the metric above\n",
        "\n",
        "# TODO: Your code here"
      ]
    }
  ],
  "metadata": {
    "colab": {
      "provenance": []
    },
    "kernelspec": {
      "display_name": "base",
      "language": "python",
      "name": "python3"
    },
    "language_info": {
      "codemirror_mode": {
        "name": "ipython",
        "version": 3
      },
      "file_extension": ".py",
      "mimetype": "text/x-python",
      "name": "python",
      "nbconvert_exporter": "python",
      "pygments_lexer": "ipython3",
      "version": "3.11.5"
    }
  },
  "nbformat": 4,
  "nbformat_minor": 0
}